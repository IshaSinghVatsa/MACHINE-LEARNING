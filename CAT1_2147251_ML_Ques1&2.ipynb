{
  "nbformat": 4,
  "nbformat_minor": 0,
  "metadata": {
    "colab": {
      "provenance": [],
      "collapsed_sections": [],
      "authorship_tag": "ABX9TyNB4CFpTTB0bfxpSwKBYnJF",
      "include_colab_link": true
    },
    "kernelspec": {
      "name": "python3",
      "display_name": "Python 3"
    },
    "language_info": {
      "name": "python"
    }
  },
  "cells": [
    {
      "cell_type": "markdown",
      "metadata": {
        "id": "view-in-github",
        "colab_type": "text"
      },
      "source": [
        "<a href=\"https://colab.research.google.com/github/IshaSinghVatsa/MACHINE-LEARNING/blob/main/CAT1_2147251_ML_Ques1%262.ipynb\" target=\"_parent\"><img src=\"https://colab.research.google.com/assets/colab-badge.svg\" alt=\"Open In Colab\"/></a>"
      ]
    },
    {
      "cell_type": "code",
      "execution_count": null,
      "metadata": {
        "colab": {
          "base_uri": "https://localhost:8080/",
          "height": 285
        },
        "id": "XrY-ekLVEqNM",
        "outputId": "c2cd5e65-0361-44f1-bdd8-b302d147b5c2"
      },
      "outputs": [
        {
          "output_type": "execute_result",
          "data": {
            "text/plain": [
              "  Menu Category                Menu Items Per Serve Size  Energy (kCal)  \\\n",
              "0  Regular Menu        McVeggieâ¢ Burger          168 g         402.05   \n",
              "1  Regular Menu     McAloo Tikki BurgerÂ®          146 g         339.52   \n",
              "2  Regular Menu  McSpicyâ¢ Paneer Burger          199 g         652.76   \n",
              "3  Regular Menu         Spicy Paneer Wrap          250 g         674.68   \n",
              "4  Regular Menu       American Veg Burger          177 g         512.17   \n",
              "\n",
              "   Protein (g)  Total fat (g)  Sat Fat (g)  Trans fat (g)  Cholesterols (mg)  \\\n",
              "0        10.24          13.83         5.34           0.16               2.49   \n",
              "1         8.50          11.31         4.27           0.20               1.47   \n",
              "2        20.29          39.45        17.12           0.18              21.85   \n",
              "3        20.96          39.10        19.73           0.26              40.93   \n",
              "4        15.30          23.45        10.51           0.17              25.24   \n",
              "\n",
              "   Total carbohydrate (g)  Total Sugars (g)  Added Sugars (g)  Sodium (mg)  \n",
              "0                   56.54              7.90              4.49       706.13  \n",
              "1                   50.27              7.05              4.07       545.34  \n",
              "2                   52.33              8.35              5.27      1074.58  \n",
              "3                   59.27              3.50              1.08      1087.46  \n",
              "4                   56.96              7.85              4.76      1051.24  "
            ],
            "text/html": [
              "\n",
              "  <div id=\"df-5fe941ce-1716-497c-bf15-5a06130bd45d\">\n",
              "    <div class=\"colab-df-container\">\n",
              "      <div>\n",
              "<style scoped>\n",
              "    .dataframe tbody tr th:only-of-type {\n",
              "        vertical-align: middle;\n",
              "    }\n",
              "\n",
              "    .dataframe tbody tr th {\n",
              "        vertical-align: top;\n",
              "    }\n",
              "\n",
              "    .dataframe thead th {\n",
              "        text-align: right;\n",
              "    }\n",
              "</style>\n",
              "<table border=\"1\" class=\"dataframe\">\n",
              "  <thead>\n",
              "    <tr style=\"text-align: right;\">\n",
              "      <th></th>\n",
              "      <th>Menu Category</th>\n",
              "      <th>Menu Items</th>\n",
              "      <th>Per Serve Size</th>\n",
              "      <th>Energy (kCal)</th>\n",
              "      <th>Protein (g)</th>\n",
              "      <th>Total fat (g)</th>\n",
              "      <th>Sat Fat (g)</th>\n",
              "      <th>Trans fat (g)</th>\n",
              "      <th>Cholesterols (mg)</th>\n",
              "      <th>Total carbohydrate (g)</th>\n",
              "      <th>Total Sugars (g)</th>\n",
              "      <th>Added Sugars (g)</th>\n",
              "      <th>Sodium (mg)</th>\n",
              "    </tr>\n",
              "  </thead>\n",
              "  <tbody>\n",
              "    <tr>\n",
              "      <th>0</th>\n",
              "      <td>Regular Menu</td>\n",
              "      <td>McVeggieâ¢ Burger</td>\n",
              "      <td>168 g</td>\n",
              "      <td>402.05</td>\n",
              "      <td>10.24</td>\n",
              "      <td>13.83</td>\n",
              "      <td>5.34</td>\n",
              "      <td>0.16</td>\n",
              "      <td>2.49</td>\n",
              "      <td>56.54</td>\n",
              "      <td>7.90</td>\n",
              "      <td>4.49</td>\n",
              "      <td>706.13</td>\n",
              "    </tr>\n",
              "    <tr>\n",
              "      <th>1</th>\n",
              "      <td>Regular Menu</td>\n",
              "      <td>McAloo Tikki BurgerÂ®</td>\n",
              "      <td>146 g</td>\n",
              "      <td>339.52</td>\n",
              "      <td>8.50</td>\n",
              "      <td>11.31</td>\n",
              "      <td>4.27</td>\n",
              "      <td>0.20</td>\n",
              "      <td>1.47</td>\n",
              "      <td>50.27</td>\n",
              "      <td>7.05</td>\n",
              "      <td>4.07</td>\n",
              "      <td>545.34</td>\n",
              "    </tr>\n",
              "    <tr>\n",
              "      <th>2</th>\n",
              "      <td>Regular Menu</td>\n",
              "      <td>McSpicyâ¢ Paneer Burger</td>\n",
              "      <td>199 g</td>\n",
              "      <td>652.76</td>\n",
              "      <td>20.29</td>\n",
              "      <td>39.45</td>\n",
              "      <td>17.12</td>\n",
              "      <td>0.18</td>\n",
              "      <td>21.85</td>\n",
              "      <td>52.33</td>\n",
              "      <td>8.35</td>\n",
              "      <td>5.27</td>\n",
              "      <td>1074.58</td>\n",
              "    </tr>\n",
              "    <tr>\n",
              "      <th>3</th>\n",
              "      <td>Regular Menu</td>\n",
              "      <td>Spicy Paneer Wrap</td>\n",
              "      <td>250 g</td>\n",
              "      <td>674.68</td>\n",
              "      <td>20.96</td>\n",
              "      <td>39.10</td>\n",
              "      <td>19.73</td>\n",
              "      <td>0.26</td>\n",
              "      <td>40.93</td>\n",
              "      <td>59.27</td>\n",
              "      <td>3.50</td>\n",
              "      <td>1.08</td>\n",
              "      <td>1087.46</td>\n",
              "    </tr>\n",
              "    <tr>\n",
              "      <th>4</th>\n",
              "      <td>Regular Menu</td>\n",
              "      <td>American Veg Burger</td>\n",
              "      <td>177 g</td>\n",
              "      <td>512.17</td>\n",
              "      <td>15.30</td>\n",
              "      <td>23.45</td>\n",
              "      <td>10.51</td>\n",
              "      <td>0.17</td>\n",
              "      <td>25.24</td>\n",
              "      <td>56.96</td>\n",
              "      <td>7.85</td>\n",
              "      <td>4.76</td>\n",
              "      <td>1051.24</td>\n",
              "    </tr>\n",
              "  </tbody>\n",
              "</table>\n",
              "</div>\n",
              "      <button class=\"colab-df-convert\" onclick=\"convertToInteractive('df-5fe941ce-1716-497c-bf15-5a06130bd45d')\"\n",
              "              title=\"Convert this dataframe to an interactive table.\"\n",
              "              style=\"display:none;\">\n",
              "        \n",
              "  <svg xmlns=\"http://www.w3.org/2000/svg\" height=\"24px\"viewBox=\"0 0 24 24\"\n",
              "       width=\"24px\">\n",
              "    <path d=\"M0 0h24v24H0V0z\" fill=\"none\"/>\n",
              "    <path d=\"M18.56 5.44l.94 2.06.94-2.06 2.06-.94-2.06-.94-.94-2.06-.94 2.06-2.06.94zm-11 1L8.5 8.5l.94-2.06 2.06-.94-2.06-.94L8.5 2.5l-.94 2.06-2.06.94zm10 10l.94 2.06.94-2.06 2.06-.94-2.06-.94-.94-2.06-.94 2.06-2.06.94z\"/><path d=\"M17.41 7.96l-1.37-1.37c-.4-.4-.92-.59-1.43-.59-.52 0-1.04.2-1.43.59L10.3 9.45l-7.72 7.72c-.78.78-.78 2.05 0 2.83L4 21.41c.39.39.9.59 1.41.59.51 0 1.02-.2 1.41-.59l7.78-7.78 2.81-2.81c.8-.78.8-2.07 0-2.86zM5.41 20L4 18.59l7.72-7.72 1.47 1.35L5.41 20z\"/>\n",
              "  </svg>\n",
              "      </button>\n",
              "      \n",
              "  <style>\n",
              "    .colab-df-container {\n",
              "      display:flex;\n",
              "      flex-wrap:wrap;\n",
              "      gap: 12px;\n",
              "    }\n",
              "\n",
              "    .colab-df-convert {\n",
              "      background-color: #E8F0FE;\n",
              "      border: none;\n",
              "      border-radius: 50%;\n",
              "      cursor: pointer;\n",
              "      display: none;\n",
              "      fill: #1967D2;\n",
              "      height: 32px;\n",
              "      padding: 0 0 0 0;\n",
              "      width: 32px;\n",
              "    }\n",
              "\n",
              "    .colab-df-convert:hover {\n",
              "      background-color: #E2EBFA;\n",
              "      box-shadow: 0px 1px 2px rgba(60, 64, 67, 0.3), 0px 1px 3px 1px rgba(60, 64, 67, 0.15);\n",
              "      fill: #174EA6;\n",
              "    }\n",
              "\n",
              "    [theme=dark] .colab-df-convert {\n",
              "      background-color: #3B4455;\n",
              "      fill: #D2E3FC;\n",
              "    }\n",
              "\n",
              "    [theme=dark] .colab-df-convert:hover {\n",
              "      background-color: #434B5C;\n",
              "      box-shadow: 0px 1px 3px 1px rgba(0, 0, 0, 0.15);\n",
              "      filter: drop-shadow(0px 1px 2px rgba(0, 0, 0, 0.3));\n",
              "      fill: #FFFFFF;\n",
              "    }\n",
              "  </style>\n",
              "\n",
              "      <script>\n",
              "        const buttonEl =\n",
              "          document.querySelector('#df-5fe941ce-1716-497c-bf15-5a06130bd45d button.colab-df-convert');\n",
              "        buttonEl.style.display =\n",
              "          google.colab.kernel.accessAllowed ? 'block' : 'none';\n",
              "\n",
              "        async function convertToInteractive(key) {\n",
              "          const element = document.querySelector('#df-5fe941ce-1716-497c-bf15-5a06130bd45d');\n",
              "          const dataTable =\n",
              "            await google.colab.kernel.invokeFunction('convertToInteractive',\n",
              "                                                     [key], {});\n",
              "          if (!dataTable) return;\n",
              "\n",
              "          const docLinkHtml = 'Like what you see? Visit the ' +\n",
              "            '<a target=\"_blank\" href=https://colab.research.google.com/notebooks/data_table.ipynb>data table notebook</a>'\n",
              "            + ' to learn more about interactive tables.';\n",
              "          element.innerHTML = '';\n",
              "          dataTable['output_type'] = 'display_data';\n",
              "          await google.colab.output.renderOutput(dataTable, element);\n",
              "          const docLink = document.createElement('div');\n",
              "          docLink.innerHTML = docLinkHtml;\n",
              "          element.appendChild(docLink);\n",
              "        }\n",
              "      </script>\n",
              "    </div>\n",
              "  </div>\n",
              "  "
            ]
          },
          "metadata": {},
          "execution_count": 23
        }
      ],
      "source": [
        "#importing all the necessary libraries\n",
        "from dataclasses import dataclass\n",
        "import pandas as pd\n",
        "import numpy as np\n",
        "from sklearn.preprocessing import LabelEncoder, StandardScaler\n",
        "import matplotlib as plt\n",
        "import sklearn as sns\n",
        "from sklearn.model_selection import train_test_split\n",
        "from sklearn.naive_bayes import GaussianNB\n",
        "\n",
        "df = pd.read_csv(\"/content/India_Menu.csv\", encoding= 'unicode_escape')\n",
        "df.head()"
      ]
    },
    {
      "cell_type": "markdown",
      "source": [
        "checking if their are any null values"
      ],
      "metadata": {
        "id": "EBroqanpkgpG"
      }
    },
    {
      "cell_type": "code",
      "source": [
        "df.isnull().any()"
      ],
      "metadata": {
        "colab": {
          "base_uri": "https://localhost:8080/"
        },
        "id": "4QuVOSU2JKei",
        "outputId": "729b053b-83f3-48ce-e5c5-35cb7815da97"
      },
      "execution_count": null,
      "outputs": [
        {
          "output_type": "execute_result",
          "data": {
            "text/plain": [
              "Menu Category             False\n",
              "Menu Items                False\n",
              "Per Serve Size            False\n",
              "Energy (kCal)             False\n",
              "Protein (g)               False\n",
              "Total fat (g)             False\n",
              "Sat Fat (g)               False\n",
              "Trans fat (g)             False\n",
              "Cholesterols (mg)         False\n",
              "Total carbohydrate (g)    False\n",
              "Total Sugars (g)          False\n",
              "Added Sugars (g)          False\n",
              "Sodium (mg)                True\n",
              "dtype: bool"
            ]
          },
          "metadata": {},
          "execution_count": 7
        }
      ]
    },
    {
      "cell_type": "markdown",
      "source": [
        "replacing the null values with 0"
      ],
      "metadata": {
        "id": "xJKoJfUXkl4t"
      }
    },
    {
      "cell_type": "code",
      "source": [
        "df.replace(np.NAN,0,inplace=True)"
      ],
      "metadata": {
        "id": "07zSa7BkJM35"
      },
      "execution_count": null,
      "outputs": []
    },
    {
      "cell_type": "markdown",
      "source": [
        "again checking for null values but now all are removed"
      ],
      "metadata": {
        "id": "hcNkuTyRkpiV"
      }
    },
    {
      "cell_type": "code",
      "source": [
        "df.isnull().any()"
      ],
      "metadata": {
        "colab": {
          "base_uri": "https://localhost:8080/"
        },
        "id": "DqI2qVIrJXdC",
        "outputId": "4f570ff7-90b9-4d34-9598-ac91597ec50f"
      },
      "execution_count": null,
      "outputs": [
        {
          "output_type": "execute_result",
          "data": {
            "text/plain": [
              "Menu Category             False\n",
              "Menu Items                False\n",
              "Per Serve Size            False\n",
              "Energy (kCal)             False\n",
              "Protein (g)               False\n",
              "Total fat (g)             False\n",
              "Sat Fat (g)               False\n",
              "Trans fat (g)             False\n",
              "Cholesterols (mg)         False\n",
              "Total carbohydrate (g)    False\n",
              "Total Sugars (g)          False\n",
              "Added Sugars (g)          False\n",
              "Sodium (mg)               False\n",
              "dtype: bool"
            ]
          },
          "metadata": {},
          "execution_count": 10
        }
      ]
    },
    {
      "cell_type": "markdown",
      "source": [
        "converting all float values to integer "
      ],
      "metadata": {
        "id": "sPPgMdy1kvzd"
      }
    },
    {
      "cell_type": "code",
      "source": [
        "#df['Gender'] = labelEn.fit_transform(df['Gender'])\n",
        "\n",
        "df['Energy (kCal)'] = df['Energy (kCal)'].astype('int')\n",
        "df['Protein (g)'] = df['Protein (g)'].astype('int')\n",
        "df['Total fat (g)'] = df['Total fat (g)'].astype('int')\n",
        "df['Sat Fat (g)'] = df['Sat Fat (g)'].astype('int')\n",
        "df['Trans fat (g)'] = df['Trans fat (g)'].astype('int')\n",
        "df['Cholesterols (mg)'] = df['Cholesterols (mg)'].astype('int')\n",
        "df['Total carbohydrate (g)'] = df['Total carbohydrate (g)'].astype('int')\n",
        "df['Total Sugars (g)'] = df['Total Sugars (g)'].astype('int')\n",
        "df['Added Sugars (g)'] = df['Added Sugars (g)'].astype('int')\n",
        "df['Sodium (mg)'] = df['Sodium (mg)'].astype('int')"
      ],
      "metadata": {
        "id": "j15HVwbCK2Wy"
      },
      "execution_count": null,
      "outputs": []
    },
    {
      "cell_type": "code",
      "source": [
        "df.head()"
      ],
      "metadata": {
        "colab": {
          "base_uri": "https://localhost:8080/",
          "height": 285
        },
        "id": "pcMbrEgLOs7P",
        "outputId": "b48b45d4-7123-4a36-d7d1-29beb176c383"
      },
      "execution_count": null,
      "outputs": [
        {
          "output_type": "execute_result",
          "data": {
            "text/plain": [
              "  Menu Category                Menu Items Per Serve Size  Energy (kCal)  \\\n",
              "0  Regular Menu        McVeggieâ¢ Burger          168 g            402   \n",
              "1  Regular Menu     McAloo Tikki BurgerÂ®          146 g            339   \n",
              "2  Regular Menu  McSpicyâ¢ Paneer Burger          199 g            652   \n",
              "3  Regular Menu         Spicy Paneer Wrap          250 g            674   \n",
              "4  Regular Menu       American Veg Burger          177 g            512   \n",
              "\n",
              "   Protein (g)  Total fat (g)  Sat Fat (g)  Trans fat (g)  Cholesterols (mg)  \\\n",
              "0           10             13            5              0                  2   \n",
              "1            8             11            4              0                  1   \n",
              "2           20             39           17              0                 21   \n",
              "3           20             39           19              0                 40   \n",
              "4           15             23           10              0                 25   \n",
              "\n",
              "   Total carbohydrate (g)  Total Sugars (g)  Added Sugars (g)  Sodium (mg)  \n",
              "0                      56                 7                 4          706  \n",
              "1                      50                 7                 4          545  \n",
              "2                      52                 8                 5         1074  \n",
              "3                      59                 3                 1         1087  \n",
              "4                      56                 7                 4         1051  "
            ],
            "text/html": [
              "\n",
              "  <div id=\"df-b1fa599a-cf5f-4363-a3c3-ea2572d63c12\">\n",
              "    <div class=\"colab-df-container\">\n",
              "      <div>\n",
              "<style scoped>\n",
              "    .dataframe tbody tr th:only-of-type {\n",
              "        vertical-align: middle;\n",
              "    }\n",
              "\n",
              "    .dataframe tbody tr th {\n",
              "        vertical-align: top;\n",
              "    }\n",
              "\n",
              "    .dataframe thead th {\n",
              "        text-align: right;\n",
              "    }\n",
              "</style>\n",
              "<table border=\"1\" class=\"dataframe\">\n",
              "  <thead>\n",
              "    <tr style=\"text-align: right;\">\n",
              "      <th></th>\n",
              "      <th>Menu Category</th>\n",
              "      <th>Menu Items</th>\n",
              "      <th>Per Serve Size</th>\n",
              "      <th>Energy (kCal)</th>\n",
              "      <th>Protein (g)</th>\n",
              "      <th>Total fat (g)</th>\n",
              "      <th>Sat Fat (g)</th>\n",
              "      <th>Trans fat (g)</th>\n",
              "      <th>Cholesterols (mg)</th>\n",
              "      <th>Total carbohydrate (g)</th>\n",
              "      <th>Total Sugars (g)</th>\n",
              "      <th>Added Sugars (g)</th>\n",
              "      <th>Sodium (mg)</th>\n",
              "    </tr>\n",
              "  </thead>\n",
              "  <tbody>\n",
              "    <tr>\n",
              "      <th>0</th>\n",
              "      <td>Regular Menu</td>\n",
              "      <td>McVeggieâ¢ Burger</td>\n",
              "      <td>168 g</td>\n",
              "      <td>402</td>\n",
              "      <td>10</td>\n",
              "      <td>13</td>\n",
              "      <td>5</td>\n",
              "      <td>0</td>\n",
              "      <td>2</td>\n",
              "      <td>56</td>\n",
              "      <td>7</td>\n",
              "      <td>4</td>\n",
              "      <td>706</td>\n",
              "    </tr>\n",
              "    <tr>\n",
              "      <th>1</th>\n",
              "      <td>Regular Menu</td>\n",
              "      <td>McAloo Tikki BurgerÂ®</td>\n",
              "      <td>146 g</td>\n",
              "      <td>339</td>\n",
              "      <td>8</td>\n",
              "      <td>11</td>\n",
              "      <td>4</td>\n",
              "      <td>0</td>\n",
              "      <td>1</td>\n",
              "      <td>50</td>\n",
              "      <td>7</td>\n",
              "      <td>4</td>\n",
              "      <td>545</td>\n",
              "    </tr>\n",
              "    <tr>\n",
              "      <th>2</th>\n",
              "      <td>Regular Menu</td>\n",
              "      <td>McSpicyâ¢ Paneer Burger</td>\n",
              "      <td>199 g</td>\n",
              "      <td>652</td>\n",
              "      <td>20</td>\n",
              "      <td>39</td>\n",
              "      <td>17</td>\n",
              "      <td>0</td>\n",
              "      <td>21</td>\n",
              "      <td>52</td>\n",
              "      <td>8</td>\n",
              "      <td>5</td>\n",
              "      <td>1074</td>\n",
              "    </tr>\n",
              "    <tr>\n",
              "      <th>3</th>\n",
              "      <td>Regular Menu</td>\n",
              "      <td>Spicy Paneer Wrap</td>\n",
              "      <td>250 g</td>\n",
              "      <td>674</td>\n",
              "      <td>20</td>\n",
              "      <td>39</td>\n",
              "      <td>19</td>\n",
              "      <td>0</td>\n",
              "      <td>40</td>\n",
              "      <td>59</td>\n",
              "      <td>3</td>\n",
              "      <td>1</td>\n",
              "      <td>1087</td>\n",
              "    </tr>\n",
              "    <tr>\n",
              "      <th>4</th>\n",
              "      <td>Regular Menu</td>\n",
              "      <td>American Veg Burger</td>\n",
              "      <td>177 g</td>\n",
              "      <td>512</td>\n",
              "      <td>15</td>\n",
              "      <td>23</td>\n",
              "      <td>10</td>\n",
              "      <td>0</td>\n",
              "      <td>25</td>\n",
              "      <td>56</td>\n",
              "      <td>7</td>\n",
              "      <td>4</td>\n",
              "      <td>1051</td>\n",
              "    </tr>\n",
              "  </tbody>\n",
              "</table>\n",
              "</div>\n",
              "      <button class=\"colab-df-convert\" onclick=\"convertToInteractive('df-b1fa599a-cf5f-4363-a3c3-ea2572d63c12')\"\n",
              "              title=\"Convert this dataframe to an interactive table.\"\n",
              "              style=\"display:none;\">\n",
              "        \n",
              "  <svg xmlns=\"http://www.w3.org/2000/svg\" height=\"24px\"viewBox=\"0 0 24 24\"\n",
              "       width=\"24px\">\n",
              "    <path d=\"M0 0h24v24H0V0z\" fill=\"none\"/>\n",
              "    <path d=\"M18.56 5.44l.94 2.06.94-2.06 2.06-.94-2.06-.94-.94-2.06-.94 2.06-2.06.94zm-11 1L8.5 8.5l.94-2.06 2.06-.94-2.06-.94L8.5 2.5l-.94 2.06-2.06.94zm10 10l.94 2.06.94-2.06 2.06-.94-2.06-.94-.94-2.06-.94 2.06-2.06.94z\"/><path d=\"M17.41 7.96l-1.37-1.37c-.4-.4-.92-.59-1.43-.59-.52 0-1.04.2-1.43.59L10.3 9.45l-7.72 7.72c-.78.78-.78 2.05 0 2.83L4 21.41c.39.39.9.59 1.41.59.51 0 1.02-.2 1.41-.59l7.78-7.78 2.81-2.81c.8-.78.8-2.07 0-2.86zM5.41 20L4 18.59l7.72-7.72 1.47 1.35L5.41 20z\"/>\n",
              "  </svg>\n",
              "      </button>\n",
              "      \n",
              "  <style>\n",
              "    .colab-df-container {\n",
              "      display:flex;\n",
              "      flex-wrap:wrap;\n",
              "      gap: 12px;\n",
              "    }\n",
              "\n",
              "    .colab-df-convert {\n",
              "      background-color: #E8F0FE;\n",
              "      border: none;\n",
              "      border-radius: 50%;\n",
              "      cursor: pointer;\n",
              "      display: none;\n",
              "      fill: #1967D2;\n",
              "      height: 32px;\n",
              "      padding: 0 0 0 0;\n",
              "      width: 32px;\n",
              "    }\n",
              "\n",
              "    .colab-df-convert:hover {\n",
              "      background-color: #E2EBFA;\n",
              "      box-shadow: 0px 1px 2px rgba(60, 64, 67, 0.3), 0px 1px 3px 1px rgba(60, 64, 67, 0.15);\n",
              "      fill: #174EA6;\n",
              "    }\n",
              "\n",
              "    [theme=dark] .colab-df-convert {\n",
              "      background-color: #3B4455;\n",
              "      fill: #D2E3FC;\n",
              "    }\n",
              "\n",
              "    [theme=dark] .colab-df-convert:hover {\n",
              "      background-color: #434B5C;\n",
              "      box-shadow: 0px 1px 3px 1px rgba(0, 0, 0, 0.15);\n",
              "      filter: drop-shadow(0px 1px 2px rgba(0, 0, 0, 0.3));\n",
              "      fill: #FFFFFF;\n",
              "    }\n",
              "  </style>\n",
              "\n",
              "      <script>\n",
              "        const buttonEl =\n",
              "          document.querySelector('#df-b1fa599a-cf5f-4363-a3c3-ea2572d63c12 button.colab-df-convert');\n",
              "        buttonEl.style.display =\n",
              "          google.colab.kernel.accessAllowed ? 'block' : 'none';\n",
              "\n",
              "        async function convertToInteractive(key) {\n",
              "          const element = document.querySelector('#df-b1fa599a-cf5f-4363-a3c3-ea2572d63c12');\n",
              "          const dataTable =\n",
              "            await google.colab.kernel.invokeFunction('convertToInteractive',\n",
              "                                                     [key], {});\n",
              "          if (!dataTable) return;\n",
              "\n",
              "          const docLinkHtml = 'Like what you see? Visit the ' +\n",
              "            '<a target=\"_blank\" href=https://colab.research.google.com/notebooks/data_table.ipynb>data table notebook</a>'\n",
              "            + ' to learn more about interactive tables.';\n",
              "          element.innerHTML = '';\n",
              "          dataTable['output_type'] = 'display_data';\n",
              "          await google.colab.output.renderOutput(dataTable, element);\n",
              "          const docLink = document.createElement('div');\n",
              "          docLink.innerHTML = docLinkHtml;\n",
              "          element.appendChild(docLink);\n",
              "        }\n",
              "      </script>\n",
              "    </div>\n",
              "  </div>\n",
              "  "
            ]
          },
          "metadata": {},
          "execution_count": 15
        }
      ]
    },
    {
      "cell_type": "code",
      "source": [
        "df.drop(['Per Serve Size'],axis=1)"
      ],
      "metadata": {
        "colab": {
          "base_uri": "https://localhost:8080/",
          "height": 589
        },
        "id": "1O6SMY37Oyb-",
        "outputId": "d0d1d1f1-bef6-4f8f-bd63-d427528bdea6"
      },
      "execution_count": null,
      "outputs": [
        {
          "output_type": "execute_result",
          "data": {
            "text/plain": [
              "       Menu Category                Menu Items  Energy (kCal)  Protein (g)  \\\n",
              "0       Regular Menu        McVeggieâ¢ Burger            402           10   \n",
              "1       Regular Menu     McAloo Tikki BurgerÂ®            339            8   \n",
              "2       Regular Menu  McSpicyâ¢ Paneer Burger            652           20   \n",
              "3       Regular Menu         Spicy Paneer Wrap            674           20   \n",
              "4       Regular Menu       American Veg Burger            512           15   \n",
              "..               ...                       ...            ...          ...   \n",
              "136  Condiments Menu    Tomato Ketchup Sachets             11            0   \n",
              "137  Condiments Menu               Maple Syrup             86            0   \n",
              "138  Condiments Menu              Cheese Slice             51            3   \n",
              "139  Condiments Menu                Sweet Corn             45            1   \n",
              "140  Condiments Menu      Mixed Fruit Beverage             72            0   \n",
              "\n",
              "     Total fat (g)  Sat Fat (g)  Trans fat (g)  Cholesterols (mg)  \\\n",
              "0               13            5              0                  2   \n",
              "1               11            4              0                  1   \n",
              "2               39           17              0                 21   \n",
              "3               39           19              0                 40   \n",
              "4               23           10              0                 25   \n",
              "..             ...          ...            ...                ...   \n",
              "136             23            0              0                  0   \n",
              "137              0            0              0                  0   \n",
              "138              3            2              0                 13   \n",
              "139              1            0              0                  2   \n",
              "140              0            0              0                  0   \n",
              "\n",
              "     Total carbohydrate (g)  Total Sugars (g)  Added Sugars (g)  Sodium (mg)  \n",
              "0                        56                 7                 4          706  \n",
              "1                        50                 7                 4          545  \n",
              "2                        52                 8                 5         1074  \n",
              "3                        59                 3                 1         1087  \n",
              "4                        56                 7                 4         1051  \n",
              "..                      ...               ...               ...          ...  \n",
              "136                       2                 2                 1           71  \n",
              "137                      21                16                 5           15  \n",
              "138                       0                 0                 0          178  \n",
              "139                       7                 2                 0            0  \n",
              "140                      18                16                 0           10  \n",
              "\n",
              "[141 rows x 12 columns]"
            ],
            "text/html": [
              "\n",
              "  <div id=\"df-168482dd-86db-4fb7-960b-7bf6142eef8d\">\n",
              "    <div class=\"colab-df-container\">\n",
              "      <div>\n",
              "<style scoped>\n",
              "    .dataframe tbody tr th:only-of-type {\n",
              "        vertical-align: middle;\n",
              "    }\n",
              "\n",
              "    .dataframe tbody tr th {\n",
              "        vertical-align: top;\n",
              "    }\n",
              "\n",
              "    .dataframe thead th {\n",
              "        text-align: right;\n",
              "    }\n",
              "</style>\n",
              "<table border=\"1\" class=\"dataframe\">\n",
              "  <thead>\n",
              "    <tr style=\"text-align: right;\">\n",
              "      <th></th>\n",
              "      <th>Menu Category</th>\n",
              "      <th>Menu Items</th>\n",
              "      <th>Energy (kCal)</th>\n",
              "      <th>Protein (g)</th>\n",
              "      <th>Total fat (g)</th>\n",
              "      <th>Sat Fat (g)</th>\n",
              "      <th>Trans fat (g)</th>\n",
              "      <th>Cholesterols (mg)</th>\n",
              "      <th>Total carbohydrate (g)</th>\n",
              "      <th>Total Sugars (g)</th>\n",
              "      <th>Added Sugars (g)</th>\n",
              "      <th>Sodium (mg)</th>\n",
              "    </tr>\n",
              "  </thead>\n",
              "  <tbody>\n",
              "    <tr>\n",
              "      <th>0</th>\n",
              "      <td>Regular Menu</td>\n",
              "      <td>McVeggieâ¢ Burger</td>\n",
              "      <td>402</td>\n",
              "      <td>10</td>\n",
              "      <td>13</td>\n",
              "      <td>5</td>\n",
              "      <td>0</td>\n",
              "      <td>2</td>\n",
              "      <td>56</td>\n",
              "      <td>7</td>\n",
              "      <td>4</td>\n",
              "      <td>706</td>\n",
              "    </tr>\n",
              "    <tr>\n",
              "      <th>1</th>\n",
              "      <td>Regular Menu</td>\n",
              "      <td>McAloo Tikki BurgerÂ®</td>\n",
              "      <td>339</td>\n",
              "      <td>8</td>\n",
              "      <td>11</td>\n",
              "      <td>4</td>\n",
              "      <td>0</td>\n",
              "      <td>1</td>\n",
              "      <td>50</td>\n",
              "      <td>7</td>\n",
              "      <td>4</td>\n",
              "      <td>545</td>\n",
              "    </tr>\n",
              "    <tr>\n",
              "      <th>2</th>\n",
              "      <td>Regular Menu</td>\n",
              "      <td>McSpicyâ¢ Paneer Burger</td>\n",
              "      <td>652</td>\n",
              "      <td>20</td>\n",
              "      <td>39</td>\n",
              "      <td>17</td>\n",
              "      <td>0</td>\n",
              "      <td>21</td>\n",
              "      <td>52</td>\n",
              "      <td>8</td>\n",
              "      <td>5</td>\n",
              "      <td>1074</td>\n",
              "    </tr>\n",
              "    <tr>\n",
              "      <th>3</th>\n",
              "      <td>Regular Menu</td>\n",
              "      <td>Spicy Paneer Wrap</td>\n",
              "      <td>674</td>\n",
              "      <td>20</td>\n",
              "      <td>39</td>\n",
              "      <td>19</td>\n",
              "      <td>0</td>\n",
              "      <td>40</td>\n",
              "      <td>59</td>\n",
              "      <td>3</td>\n",
              "      <td>1</td>\n",
              "      <td>1087</td>\n",
              "    </tr>\n",
              "    <tr>\n",
              "      <th>4</th>\n",
              "      <td>Regular Menu</td>\n",
              "      <td>American Veg Burger</td>\n",
              "      <td>512</td>\n",
              "      <td>15</td>\n",
              "      <td>23</td>\n",
              "      <td>10</td>\n",
              "      <td>0</td>\n",
              "      <td>25</td>\n",
              "      <td>56</td>\n",
              "      <td>7</td>\n",
              "      <td>4</td>\n",
              "      <td>1051</td>\n",
              "    </tr>\n",
              "    <tr>\n",
              "      <th>...</th>\n",
              "      <td>...</td>\n",
              "      <td>...</td>\n",
              "      <td>...</td>\n",
              "      <td>...</td>\n",
              "      <td>...</td>\n",
              "      <td>...</td>\n",
              "      <td>...</td>\n",
              "      <td>...</td>\n",
              "      <td>...</td>\n",
              "      <td>...</td>\n",
              "      <td>...</td>\n",
              "      <td>...</td>\n",
              "    </tr>\n",
              "    <tr>\n",
              "      <th>136</th>\n",
              "      <td>Condiments Menu</td>\n",
              "      <td>Tomato Ketchup Sachets</td>\n",
              "      <td>11</td>\n",
              "      <td>0</td>\n",
              "      <td>23</td>\n",
              "      <td>0</td>\n",
              "      <td>0</td>\n",
              "      <td>0</td>\n",
              "      <td>2</td>\n",
              "      <td>2</td>\n",
              "      <td>1</td>\n",
              "      <td>71</td>\n",
              "    </tr>\n",
              "    <tr>\n",
              "      <th>137</th>\n",
              "      <td>Condiments Menu</td>\n",
              "      <td>Maple Syrup</td>\n",
              "      <td>86</td>\n",
              "      <td>0</td>\n",
              "      <td>0</td>\n",
              "      <td>0</td>\n",
              "      <td>0</td>\n",
              "      <td>0</td>\n",
              "      <td>21</td>\n",
              "      <td>16</td>\n",
              "      <td>5</td>\n",
              "      <td>15</td>\n",
              "    </tr>\n",
              "    <tr>\n",
              "      <th>138</th>\n",
              "      <td>Condiments Menu</td>\n",
              "      <td>Cheese Slice</td>\n",
              "      <td>51</td>\n",
              "      <td>3</td>\n",
              "      <td>3</td>\n",
              "      <td>2</td>\n",
              "      <td>0</td>\n",
              "      <td>13</td>\n",
              "      <td>0</td>\n",
              "      <td>0</td>\n",
              "      <td>0</td>\n",
              "      <td>178</td>\n",
              "    </tr>\n",
              "    <tr>\n",
              "      <th>139</th>\n",
              "      <td>Condiments Menu</td>\n",
              "      <td>Sweet Corn</td>\n",
              "      <td>45</td>\n",
              "      <td>1</td>\n",
              "      <td>1</td>\n",
              "      <td>0</td>\n",
              "      <td>0</td>\n",
              "      <td>2</td>\n",
              "      <td>7</td>\n",
              "      <td>2</td>\n",
              "      <td>0</td>\n",
              "      <td>0</td>\n",
              "    </tr>\n",
              "    <tr>\n",
              "      <th>140</th>\n",
              "      <td>Condiments Menu</td>\n",
              "      <td>Mixed Fruit Beverage</td>\n",
              "      <td>72</td>\n",
              "      <td>0</td>\n",
              "      <td>0</td>\n",
              "      <td>0</td>\n",
              "      <td>0</td>\n",
              "      <td>0</td>\n",
              "      <td>18</td>\n",
              "      <td>16</td>\n",
              "      <td>0</td>\n",
              "      <td>10</td>\n",
              "    </tr>\n",
              "  </tbody>\n",
              "</table>\n",
              "<p>141 rows × 12 columns</p>\n",
              "</div>\n",
              "      <button class=\"colab-df-convert\" onclick=\"convertToInteractive('df-168482dd-86db-4fb7-960b-7bf6142eef8d')\"\n",
              "              title=\"Convert this dataframe to an interactive table.\"\n",
              "              style=\"display:none;\">\n",
              "        \n",
              "  <svg xmlns=\"http://www.w3.org/2000/svg\" height=\"24px\"viewBox=\"0 0 24 24\"\n",
              "       width=\"24px\">\n",
              "    <path d=\"M0 0h24v24H0V0z\" fill=\"none\"/>\n",
              "    <path d=\"M18.56 5.44l.94 2.06.94-2.06 2.06-.94-2.06-.94-.94-2.06-.94 2.06-2.06.94zm-11 1L8.5 8.5l.94-2.06 2.06-.94-2.06-.94L8.5 2.5l-.94 2.06-2.06.94zm10 10l.94 2.06.94-2.06 2.06-.94-2.06-.94-.94-2.06-.94 2.06-2.06.94z\"/><path d=\"M17.41 7.96l-1.37-1.37c-.4-.4-.92-.59-1.43-.59-.52 0-1.04.2-1.43.59L10.3 9.45l-7.72 7.72c-.78.78-.78 2.05 0 2.83L4 21.41c.39.39.9.59 1.41.59.51 0 1.02-.2 1.41-.59l7.78-7.78 2.81-2.81c.8-.78.8-2.07 0-2.86zM5.41 20L4 18.59l7.72-7.72 1.47 1.35L5.41 20z\"/>\n",
              "  </svg>\n",
              "      </button>\n",
              "      \n",
              "  <style>\n",
              "    .colab-df-container {\n",
              "      display:flex;\n",
              "      flex-wrap:wrap;\n",
              "      gap: 12px;\n",
              "    }\n",
              "\n",
              "    .colab-df-convert {\n",
              "      background-color: #E8F0FE;\n",
              "      border: none;\n",
              "      border-radius: 50%;\n",
              "      cursor: pointer;\n",
              "      display: none;\n",
              "      fill: #1967D2;\n",
              "      height: 32px;\n",
              "      padding: 0 0 0 0;\n",
              "      width: 32px;\n",
              "    }\n",
              "\n",
              "    .colab-df-convert:hover {\n",
              "      background-color: #E2EBFA;\n",
              "      box-shadow: 0px 1px 2px rgba(60, 64, 67, 0.3), 0px 1px 3px 1px rgba(60, 64, 67, 0.15);\n",
              "      fill: #174EA6;\n",
              "    }\n",
              "\n",
              "    [theme=dark] .colab-df-convert {\n",
              "      background-color: #3B4455;\n",
              "      fill: #D2E3FC;\n",
              "    }\n",
              "\n",
              "    [theme=dark] .colab-df-convert:hover {\n",
              "      background-color: #434B5C;\n",
              "      box-shadow: 0px 1px 3px 1px rgba(0, 0, 0, 0.15);\n",
              "      filter: drop-shadow(0px 1px 2px rgba(0, 0, 0, 0.3));\n",
              "      fill: #FFFFFF;\n",
              "    }\n",
              "  </style>\n",
              "\n",
              "      <script>\n",
              "        const buttonEl =\n",
              "          document.querySelector('#df-168482dd-86db-4fb7-960b-7bf6142eef8d button.colab-df-convert');\n",
              "        buttonEl.style.display =\n",
              "          google.colab.kernel.accessAllowed ? 'block' : 'none';\n",
              "\n",
              "        async function convertToInteractive(key) {\n",
              "          const element = document.querySelector('#df-168482dd-86db-4fb7-960b-7bf6142eef8d');\n",
              "          const dataTable =\n",
              "            await google.colab.kernel.invokeFunction('convertToInteractive',\n",
              "                                                     [key], {});\n",
              "          if (!dataTable) return;\n",
              "\n",
              "          const docLinkHtml = 'Like what you see? Visit the ' +\n",
              "            '<a target=\"_blank\" href=https://colab.research.google.com/notebooks/data_table.ipynb>data table notebook</a>'\n",
              "            + ' to learn more about interactive tables.';\n",
              "          element.innerHTML = '';\n",
              "          dataTable['output_type'] = 'display_data';\n",
              "          await google.colab.output.renderOutput(dataTable, element);\n",
              "          const docLink = document.createElement('div');\n",
              "          docLink.innerHTML = docLinkHtml;\n",
              "          element.appendChild(docLink);\n",
              "        }\n",
              "      </script>\n",
              "    </div>\n",
              "  </div>\n",
              "  "
            ]
          },
          "metadata": {},
          "execution_count": 21
        }
      ]
    },
    {
      "cell_type": "markdown",
      "source": [
        "Here we are going to perform classification on column Protein and Added Sugar"
      ],
      "metadata": {
        "id": "duR6szNwk6_W"
      }
    },
    {
      "cell_type": "code",
      "source": [
        "x=df.iloc[:,[3]].values\n",
        "y=df.iloc[:,[-2]].values"
      ],
      "metadata": {
        "id": "iauULqeRQa1-"
      },
      "execution_count": null,
      "outputs": []
    },
    {
      "cell_type": "code",
      "source": [
        "le=LabelEncoder()\n",
        "x[:,0]=le.fit_transform(x[:,0])"
      ],
      "metadata": {
        "id": "A9_tVcCpRB6G"
      },
      "execution_count": null,
      "outputs": []
    },
    {
      "cell_type": "markdown",
      "source": [
        "Here we are deviding the whole data set into training and test datasets in ratio of 80 and 20 respectively"
      ],
      "metadata": {
        "id": "HDfF9OqclFPt"
      }
    },
    {
      "cell_type": "code",
      "source": [
        "#variables for assigning training and test values\n",
        "x_train,x_test,y_train,y_test=train_test_split(x,y,test_size=0.20,random_state=0)\n",
        "\n"
      ],
      "metadata": {
        "id": "pMt8lEGFRvMV"
      },
      "execution_count": null,
      "outputs": []
    },
    {
      "cell_type": "markdown",
      "source": [
        "Here Tranformation is happening of the dataset"
      ],
      "metadata": {
        "id": "u8E5ACYBlVF1"
      }
    },
    {
      "cell_type": "code",
      "source": [
        "from sklearn.preprocessing import StandardScaler\n",
        "\n"
      ],
      "metadata": {
        "id": "XL6cLDqaRww1"
      },
      "execution_count": null,
      "outputs": []
    },
    {
      "cell_type": "code",
      "source": [
        "sc=StandardScaler()\n",
        "\n"
      ],
      "metadata": {
        "id": "u03hjUQQRyIt"
      },
      "execution_count": null,
      "outputs": []
    },
    {
      "cell_type": "code",
      "source": [
        "x_train=sc.fit_transform(x_train)\n",
        "\n",
        "x_test=sc.transform(x_test)"
      ],
      "metadata": {
        "id": "0rst5KzFRzqN"
      },
      "execution_count": null,
      "outputs": []
    },
    {
      "cell_type": "code",
      "source": [
        "from sklearn.neighbors import KNeighborsClassifier\n",
        "classifier = KNeighborsClassifier(n_neighbors = 5, metric = 'minkowski', p = 2)\n",
        "classifier.fit(x_train, y_train)"
      ],
      "metadata": {
        "colab": {
          "base_uri": "https://localhost:8080/",
          "height": 400
        },
        "id": "ODXXgzj9Tgaf",
        "outputId": "52f2fc10-74cd-47bf-fa4c-0f906789b696"
      },
      "execution_count": null,
      "outputs": [
        {
          "output_type": "stream",
          "name": "stderr",
          "text": [
            "/usr/local/lib/python3.7/dist-packages/sklearn/neighbors/_classification.py:198: DataConversionWarning: A column-vector y was passed when a 1d array was expected. Please change the shape of y to (n_samples,), for example using ravel().\n",
            "  return self._fit(X, y)\n"
          ]
        },
        {
          "output_type": "error",
          "ename": "ValueError",
          "evalue": "ignored",
          "traceback": [
            "\u001b[0;31m---------------------------------------------------------------------------\u001b[0m",
            "\u001b[0;31mValueError\u001b[0m                                Traceback (most recent call last)",
            "\u001b[0;32m<ipython-input-87-58fea9b8c9c7>\u001b[0m in \u001b[0;36m<module>\u001b[0;34m\u001b[0m\n\u001b[1;32m      1\u001b[0m \u001b[0;32mfrom\u001b[0m \u001b[0msklearn\u001b[0m\u001b[0;34m.\u001b[0m\u001b[0mneighbors\u001b[0m \u001b[0;32mimport\u001b[0m \u001b[0mKNeighborsClassifier\u001b[0m\u001b[0;34m\u001b[0m\u001b[0;34m\u001b[0m\u001b[0m\n\u001b[1;32m      2\u001b[0m \u001b[0mclassifier\u001b[0m \u001b[0;34m=\u001b[0m \u001b[0mKNeighborsClassifier\u001b[0m\u001b[0;34m(\u001b[0m\u001b[0mn_neighbors\u001b[0m \u001b[0;34m=\u001b[0m \u001b[0;36m5\u001b[0m\u001b[0;34m,\u001b[0m \u001b[0mmetric\u001b[0m \u001b[0;34m=\u001b[0m \u001b[0;34m'minkowski'\u001b[0m\u001b[0;34m,\u001b[0m \u001b[0mp\u001b[0m \u001b[0;34m=\u001b[0m \u001b[0;36m2\u001b[0m\u001b[0;34m)\u001b[0m\u001b[0;34m\u001b[0m\u001b[0;34m\u001b[0m\u001b[0m\n\u001b[0;32m----> 3\u001b[0;31m \u001b[0mclassifier\u001b[0m\u001b[0;34m.\u001b[0m\u001b[0mfit\u001b[0m\u001b[0;34m(\u001b[0m\u001b[0mx_train\u001b[0m\u001b[0;34m,\u001b[0m \u001b[0my_train\u001b[0m\u001b[0;34m)\u001b[0m\u001b[0;34m\u001b[0m\u001b[0;34m\u001b[0m\u001b[0m\n\u001b[0m",
            "\u001b[0;32m/usr/local/lib/python3.7/dist-packages/sklearn/neighbors/_classification.py\u001b[0m in \u001b[0;36mfit\u001b[0;34m(self, X, y)\u001b[0m\n\u001b[1;32m    196\u001b[0m         \u001b[0mself\u001b[0m\u001b[0;34m.\u001b[0m\u001b[0mweights\u001b[0m \u001b[0;34m=\u001b[0m \u001b[0m_check_weights\u001b[0m\u001b[0;34m(\u001b[0m\u001b[0mself\u001b[0m\u001b[0;34m.\u001b[0m\u001b[0mweights\u001b[0m\u001b[0;34m)\u001b[0m\u001b[0;34m\u001b[0m\u001b[0;34m\u001b[0m\u001b[0m\n\u001b[1;32m    197\u001b[0m \u001b[0;34m\u001b[0m\u001b[0m\n\u001b[0;32m--> 198\u001b[0;31m         \u001b[0;32mreturn\u001b[0m \u001b[0mself\u001b[0m\u001b[0;34m.\u001b[0m\u001b[0m_fit\u001b[0m\u001b[0;34m(\u001b[0m\u001b[0mX\u001b[0m\u001b[0;34m,\u001b[0m \u001b[0my\u001b[0m\u001b[0;34m)\u001b[0m\u001b[0;34m\u001b[0m\u001b[0;34m\u001b[0m\u001b[0m\n\u001b[0m\u001b[1;32m    199\u001b[0m \u001b[0;34m\u001b[0m\u001b[0m\n\u001b[1;32m    200\u001b[0m     \u001b[0;32mdef\u001b[0m \u001b[0mpredict\u001b[0m\u001b[0;34m(\u001b[0m\u001b[0mself\u001b[0m\u001b[0;34m,\u001b[0m \u001b[0mX\u001b[0m\u001b[0;34m)\u001b[0m\u001b[0;34m:\u001b[0m\u001b[0;34m\u001b[0m\u001b[0;34m\u001b[0m\u001b[0m\n",
            "\u001b[0;32m/usr/local/lib/python3.7/dist-packages/sklearn/neighbors/_base.py\u001b[0m in \u001b[0;36m_fit\u001b[0;34m(self, X, y)\u001b[0m\n\u001b[1;32m    418\u001b[0m                     \u001b[0mself\u001b[0m\u001b[0;34m.\u001b[0m\u001b[0moutputs_2d_\u001b[0m \u001b[0;34m=\u001b[0m \u001b[0;32mTrue\u001b[0m\u001b[0;34m\u001b[0m\u001b[0;34m\u001b[0m\u001b[0m\n\u001b[1;32m    419\u001b[0m \u001b[0;34m\u001b[0m\u001b[0m\n\u001b[0;32m--> 420\u001b[0;31m                 \u001b[0mcheck_classification_targets\u001b[0m\u001b[0;34m(\u001b[0m\u001b[0my\u001b[0m\u001b[0;34m)\u001b[0m\u001b[0;34m\u001b[0m\u001b[0;34m\u001b[0m\u001b[0m\n\u001b[0m\u001b[1;32m    421\u001b[0m                 \u001b[0mself\u001b[0m\u001b[0;34m.\u001b[0m\u001b[0mclasses_\u001b[0m \u001b[0;34m=\u001b[0m \u001b[0;34m[\u001b[0m\u001b[0;34m]\u001b[0m\u001b[0;34m\u001b[0m\u001b[0;34m\u001b[0m\u001b[0m\n\u001b[1;32m    422\u001b[0m                 \u001b[0mself\u001b[0m\u001b[0;34m.\u001b[0m\u001b[0m_y\u001b[0m \u001b[0;34m=\u001b[0m \u001b[0mnp\u001b[0m\u001b[0;34m.\u001b[0m\u001b[0mempty\u001b[0m\u001b[0;34m(\u001b[0m\u001b[0my\u001b[0m\u001b[0;34m.\u001b[0m\u001b[0mshape\u001b[0m\u001b[0;34m,\u001b[0m \u001b[0mdtype\u001b[0m\u001b[0;34m=\u001b[0m\u001b[0mint\u001b[0m\u001b[0;34m)\u001b[0m\u001b[0;34m\u001b[0m\u001b[0;34m\u001b[0m\u001b[0m\n",
            "\u001b[0;32m/usr/local/lib/python3.7/dist-packages/sklearn/utils/multiclass.py\u001b[0m in \u001b[0;36mcheck_classification_targets\u001b[0;34m(y)\u001b[0m\n\u001b[1;32m    195\u001b[0m         \u001b[0;34m\"multilabel-sequences\"\u001b[0m\u001b[0;34m,\u001b[0m\u001b[0;34m\u001b[0m\u001b[0;34m\u001b[0m\u001b[0m\n\u001b[1;32m    196\u001b[0m     ]:\n\u001b[0;32m--> 197\u001b[0;31m         \u001b[0;32mraise\u001b[0m \u001b[0mValueError\u001b[0m\u001b[0;34m(\u001b[0m\u001b[0;34m\"Unknown label type: %r\"\u001b[0m \u001b[0;34m%\u001b[0m \u001b[0my_type\u001b[0m\u001b[0;34m)\u001b[0m\u001b[0;34m\u001b[0m\u001b[0;34m\u001b[0m\u001b[0m\n\u001b[0m\u001b[1;32m    198\u001b[0m \u001b[0;34m\u001b[0m\u001b[0m\n\u001b[1;32m    199\u001b[0m \u001b[0;34m\u001b[0m\u001b[0m\n",
            "\u001b[0;31mValueError\u001b[0m: Unknown label type: 'continuous'"
          ]
        }
      ]
    },
    {
      "cell_type": "code",
      "source": [
        "y_pred = classifier.predict(x_test)"
      ],
      "metadata": {
        "id": "NwqbB5gUlp7f"
      },
      "execution_count": null,
      "outputs": []
    },
    {
      "cell_type": "code",
      "source": [
        "y_test"
      ],
      "metadata": {
        "colab": {
          "base_uri": "https://localhost:8080/"
        },
        "id": "E-Ft44t5TVjE",
        "outputId": "63fca7ee-fd18-4746-d425-da3aa564b2e0"
      },
      "execution_count": null,
      "outputs": [
        {
          "output_type": "execute_result",
          "data": {
            "text/plain": [
              "array([[2.60500e+01],\n",
              "       [2.09090e+02],\n",
              "       [3.90740e+02],\n",
              "       [1.55060e+02],\n",
              "       [7.02600e+01],\n",
              "       [2.16790e+02],\n",
              "       [1.76900e+01],\n",
              "       [1.65360e+02],\n",
              "       [4.98900e+01],\n",
              "       [7.66330e+02],\n",
              "       [1.02600e+01],\n",
              "       [7.57910e+02],\n",
              "       [2.79000e+00],\n",
              "       [3.47400e+01],\n",
              "       [2.02000e+00],\n",
              "       [1.00890e+02],\n",
              "       [1.17427e+03],\n",
              "       [1.39970e+02],\n",
              "       [1.40000e+01],\n",
              "       [1.54980e+02],\n",
              "       [1.85730e+02],\n",
              "       [7.04810e+02],\n",
              "       [1.50000e+01],\n",
              "       [7.15830e+02],\n",
              "       [1.07458e+03],\n",
              "       [        nan],\n",
              "       [1.53150e+02],\n",
              "       [2.51500e+01],\n",
              "       [2.39949e+03]])"
            ]
          },
          "metadata": {},
          "execution_count": 44
        }
      ]
    },
    {
      "cell_type": "code",
      "source": [
        "y_pred"
      ],
      "metadata": {
        "colab": {
          "base_uri": "https://localhost:8080/",
          "height": 165
        },
        "id": "0GdjPmfnUJ3s",
        "outputId": "76880b85-566c-49b1-bc80-0eb5bbcb9acf"
      },
      "execution_count": null,
      "outputs": [
        {
          "output_type": "error",
          "ename": "NameError",
          "evalue": "ignored",
          "traceback": [
            "\u001b[0;31m---------------------------------------------------------------------------\u001b[0m",
            "\u001b[0;31mNameError\u001b[0m                                 Traceback (most recent call last)",
            "\u001b[0;32m<ipython-input-57-3aaf935e6aec>\u001b[0m in \u001b[0;36m<module>\u001b[0;34m\u001b[0m\n\u001b[0;32m----> 1\u001b[0;31m \u001b[0my_pred\u001b[0m\u001b[0;34m\u001b[0m\u001b[0;34m\u001b[0m\u001b[0m\n\u001b[0m",
            "\u001b[0;31mNameError\u001b[0m: name 'y_pred' is not defined"
          ]
        }
      ]
    },
    {
      "cell_type": "code",
      "source": [
        "from sklearn.metrics import confusion_matrix,accuracy_score\n",
        "cm = confusion_matrix(y_test, y_pred)\n",
        "ac = accuracy_score(y_test,y_pred)"
      ],
      "metadata": {
        "id": "oBsbfmFyheYR"
      },
      "execution_count": null,
      "outputs": []
    },
    {
      "cell_type": "markdown",
      "source": [],
      "metadata": {
        "id": "BdbkdQ0EmA4N"
      }
    },
    {
      "cell_type": "markdown",
      "source": [
        "For printinmg confusion matrix and accuracy"
      ],
      "metadata": {
        "id": "YOpuXprfmDG9"
      }
    },
    {
      "cell_type": "code",
      "source": [
        "#Confusion Matrix\n",
        "\n",
        "cm\n",
        "ac"
      ],
      "metadata": {
        "colab": {
          "base_uri": "https://localhost:8080/",
          "height": 200
        },
        "id": "LqN6i24pSyFm",
        "outputId": "e995ab1b-19be-4e90-8672-5e8e44e4c09b"
      },
      "execution_count": null,
      "outputs": [
        {
          "output_type": "error",
          "ename": "NameError",
          "evalue": "ignored",
          "traceback": [
            "\u001b[0;31m---------------------------------------------------------------------------\u001b[0m",
            "\u001b[0;31mNameError\u001b[0m                                 Traceback (most recent call last)",
            "\u001b[0;32m<ipython-input-59-c1ba2feb8aff>\u001b[0m in \u001b[0;36m<module>\u001b[0;34m\u001b[0m\n\u001b[1;32m      1\u001b[0m \u001b[0;31m#Confusion Matrix\u001b[0m\u001b[0;34m\u001b[0m\u001b[0;34m\u001b[0m\u001b[0;34m\u001b[0m\u001b[0m\n\u001b[1;32m      2\u001b[0m \u001b[0;34m\u001b[0m\u001b[0m\n\u001b[0;32m----> 3\u001b[0;31m \u001b[0mcm\u001b[0m\u001b[0;34m\u001b[0m\u001b[0;34m\u001b[0m\u001b[0m\n\u001b[0m",
            "\u001b[0;31mNameError\u001b[0m: name 'cm' is not defined"
          ]
        }
      ]
    },
    {
      "cell_type": "markdown",
      "source": [
        "The above error I was not able to resolve but this is the whole code for Gaussian Naive Bayes Classifier"
      ],
      "metadata": {
        "id": "rLKKTguIlyTt"
      }
    },
    {
      "cell_type": "code",
      "source": [
        "from sklearn.naive_bayes import GaussianNB\n",
        "gnb = GaussianNB()\n",
        "gnb.fit(x_train, y_train)\n",
        " \n",
        "# making predictions on the testing set\n",
        "y_pred = gnb.predict(x_test)\n",
        " \n",
        "# comparing actual response values (y_test) with predicted response values (y_pred)\n",
        "from sklearn import metrics\n",
        "print(\"Gaussian Naive Bayes model accuracy(in %):\", metrics.accuracy_score(y_test, y_pred)*100)"
      ],
      "metadata": {
        "colab": {
          "base_uri": "https://localhost:8080/",
          "height": 556
        },
        "id": "KZBsf41OLpMB",
        "outputId": "36e97c56-da68-439a-a2e8-fedea2a4cd72"
      },
      "execution_count": null,
      "outputs": [
        {
          "output_type": "stream",
          "name": "stderr",
          "text": [
            "/usr/local/lib/python3.7/dist-packages/sklearn/utils/validation.py:993: DataConversionWarning: A column-vector y was passed when a 1d array was expected. Please change the shape of y to (n_samples, ), for example using ravel().\n",
            "  y = column_or_1d(y, warn=True)\n"
          ]
        },
        {
          "output_type": "error",
          "ename": "ValueError",
          "evalue": "ignored",
          "traceback": [
            "\u001b[0;31m---------------------------------------------------------------------------\u001b[0m",
            "\u001b[0;31mValueError\u001b[0m                                Traceback (most recent call last)",
            "\u001b[0;32m<ipython-input-84-8de66cb4ca90>\u001b[0m in \u001b[0;36m<module>\u001b[0;34m\u001b[0m\n\u001b[1;32m      1\u001b[0m \u001b[0;32mfrom\u001b[0m \u001b[0msklearn\u001b[0m\u001b[0;34m.\u001b[0m\u001b[0mnaive_bayes\u001b[0m \u001b[0;32mimport\u001b[0m \u001b[0mGaussianNB\u001b[0m\u001b[0;34m\u001b[0m\u001b[0;34m\u001b[0m\u001b[0m\n\u001b[1;32m      2\u001b[0m \u001b[0mgnb\u001b[0m \u001b[0;34m=\u001b[0m \u001b[0mGaussianNB\u001b[0m\u001b[0;34m(\u001b[0m\u001b[0;34m)\u001b[0m\u001b[0;34m\u001b[0m\u001b[0;34m\u001b[0m\u001b[0m\n\u001b[0;32m----> 3\u001b[0;31m \u001b[0mgnb\u001b[0m\u001b[0;34m.\u001b[0m\u001b[0mfit\u001b[0m\u001b[0;34m(\u001b[0m\u001b[0mx_train\u001b[0m\u001b[0;34m,\u001b[0m \u001b[0my_train\u001b[0m\u001b[0;34m)\u001b[0m\u001b[0;34m\u001b[0m\u001b[0;34m\u001b[0m\u001b[0m\n\u001b[0m\u001b[1;32m      4\u001b[0m \u001b[0;34m\u001b[0m\u001b[0m\n\u001b[1;32m      5\u001b[0m \u001b[0;31m# making predictions on the testing set\u001b[0m\u001b[0;34m\u001b[0m\u001b[0;34m\u001b[0m\u001b[0;34m\u001b[0m\u001b[0m\n",
            "\u001b[0;32m/usr/local/lib/python3.7/dist-packages/sklearn/naive_bayes.py\u001b[0m in \u001b[0;36mfit\u001b[0;34m(self, X, y, sample_weight)\u001b[0m\n\u001b[1;32m    244\u001b[0m         \u001b[0my\u001b[0m \u001b[0;34m=\u001b[0m \u001b[0mself\u001b[0m\u001b[0;34m.\u001b[0m\u001b[0m_validate_data\u001b[0m\u001b[0;34m(\u001b[0m\u001b[0my\u001b[0m\u001b[0;34m=\u001b[0m\u001b[0my\u001b[0m\u001b[0;34m)\u001b[0m\u001b[0;34m\u001b[0m\u001b[0;34m\u001b[0m\u001b[0m\n\u001b[1;32m    245\u001b[0m         return self._partial_fit(\n\u001b[0;32m--> 246\u001b[0;31m             \u001b[0mX\u001b[0m\u001b[0;34m,\u001b[0m \u001b[0my\u001b[0m\u001b[0;34m,\u001b[0m \u001b[0mnp\u001b[0m\u001b[0;34m.\u001b[0m\u001b[0munique\u001b[0m\u001b[0;34m(\u001b[0m\u001b[0my\u001b[0m\u001b[0;34m)\u001b[0m\u001b[0;34m,\u001b[0m \u001b[0m_refit\u001b[0m\u001b[0;34m=\u001b[0m\u001b[0;32mTrue\u001b[0m\u001b[0;34m,\u001b[0m \u001b[0msample_weight\u001b[0m\u001b[0;34m=\u001b[0m\u001b[0msample_weight\u001b[0m\u001b[0;34m\u001b[0m\u001b[0;34m\u001b[0m\u001b[0m\n\u001b[0m\u001b[1;32m    247\u001b[0m         )\n\u001b[1;32m    248\u001b[0m \u001b[0;34m\u001b[0m\u001b[0m\n",
            "\u001b[0;32m/usr/local/lib/python3.7/dist-packages/sklearn/naive_bayes.py\u001b[0m in \u001b[0;36m_partial_fit\u001b[0;34m(self, X, y, classes, _refit, sample_weight)\u001b[0m\n\u001b[1;32m    399\u001b[0m             \u001b[0mself\u001b[0m\u001b[0;34m.\u001b[0m\u001b[0mclasses_\u001b[0m \u001b[0;34m=\u001b[0m \u001b[0;32mNone\u001b[0m\u001b[0;34m\u001b[0m\u001b[0;34m\u001b[0m\u001b[0m\n\u001b[1;32m    400\u001b[0m \u001b[0;34m\u001b[0m\u001b[0m\n\u001b[0;32m--> 401\u001b[0;31m         \u001b[0mfirst_call\u001b[0m \u001b[0;34m=\u001b[0m \u001b[0m_check_partial_fit_first_call\u001b[0m\u001b[0;34m(\u001b[0m\u001b[0mself\u001b[0m\u001b[0;34m,\u001b[0m \u001b[0mclasses\u001b[0m\u001b[0;34m)\u001b[0m\u001b[0;34m\u001b[0m\u001b[0;34m\u001b[0m\u001b[0m\n\u001b[0m\u001b[1;32m    402\u001b[0m         \u001b[0mX\u001b[0m\u001b[0;34m,\u001b[0m \u001b[0my\u001b[0m \u001b[0;34m=\u001b[0m \u001b[0mself\u001b[0m\u001b[0;34m.\u001b[0m\u001b[0m_validate_data\u001b[0m\u001b[0;34m(\u001b[0m\u001b[0mX\u001b[0m\u001b[0;34m,\u001b[0m \u001b[0my\u001b[0m\u001b[0;34m,\u001b[0m \u001b[0mreset\u001b[0m\u001b[0;34m=\u001b[0m\u001b[0mfirst_call\u001b[0m\u001b[0;34m)\u001b[0m\u001b[0;34m\u001b[0m\u001b[0;34m\u001b[0m\u001b[0m\n\u001b[1;32m    403\u001b[0m         \u001b[0;32mif\u001b[0m \u001b[0msample_weight\u001b[0m \u001b[0;32mis\u001b[0m \u001b[0;32mnot\u001b[0m \u001b[0;32mNone\u001b[0m\u001b[0;34m:\u001b[0m\u001b[0;34m\u001b[0m\u001b[0;34m\u001b[0m\u001b[0m\n",
            "\u001b[0;32m/usr/local/lib/python3.7/dist-packages/sklearn/utils/multiclass.py\u001b[0m in \u001b[0;36m_check_partial_fit_first_call\u001b[0;34m(clf, classes)\u001b[0m\n\u001b[1;32m    358\u001b[0m         \u001b[0;32melse\u001b[0m\u001b[0;34m:\u001b[0m\u001b[0;34m\u001b[0m\u001b[0;34m\u001b[0m\u001b[0m\n\u001b[1;32m    359\u001b[0m             \u001b[0;31m# This is the first call to partial_fit\u001b[0m\u001b[0;34m\u001b[0m\u001b[0;34m\u001b[0m\u001b[0;34m\u001b[0m\u001b[0m\n\u001b[0;32m--> 360\u001b[0;31m             \u001b[0mclf\u001b[0m\u001b[0;34m.\u001b[0m\u001b[0mclasses_\u001b[0m \u001b[0;34m=\u001b[0m \u001b[0munique_labels\u001b[0m\u001b[0;34m(\u001b[0m\u001b[0mclasses\u001b[0m\u001b[0;34m)\u001b[0m\u001b[0;34m\u001b[0m\u001b[0;34m\u001b[0m\u001b[0m\n\u001b[0m\u001b[1;32m    361\u001b[0m             \u001b[0;32mreturn\u001b[0m \u001b[0;32mTrue\u001b[0m\u001b[0;34m\u001b[0m\u001b[0;34m\u001b[0m\u001b[0m\n\u001b[1;32m    362\u001b[0m \u001b[0;34m\u001b[0m\u001b[0m\n",
            "\u001b[0;32m/usr/local/lib/python3.7/dist-packages/sklearn/utils/multiclass.py\u001b[0m in \u001b[0;36munique_labels\u001b[0;34m(*ys)\u001b[0m\n\u001b[1;32m     99\u001b[0m     \u001b[0m_unique_labels\u001b[0m \u001b[0;34m=\u001b[0m \u001b[0m_FN_UNIQUE_LABELS\u001b[0m\u001b[0;34m.\u001b[0m\u001b[0mget\u001b[0m\u001b[0;34m(\u001b[0m\u001b[0mlabel_type\u001b[0m\u001b[0;34m,\u001b[0m \u001b[0;32mNone\u001b[0m\u001b[0;34m)\u001b[0m\u001b[0;34m\u001b[0m\u001b[0;34m\u001b[0m\u001b[0m\n\u001b[1;32m    100\u001b[0m     \u001b[0;32mif\u001b[0m \u001b[0;32mnot\u001b[0m \u001b[0m_unique_labels\u001b[0m\u001b[0;34m:\u001b[0m\u001b[0;34m\u001b[0m\u001b[0;34m\u001b[0m\u001b[0m\n\u001b[0;32m--> 101\u001b[0;31m         \u001b[0;32mraise\u001b[0m \u001b[0mValueError\u001b[0m\u001b[0;34m(\u001b[0m\u001b[0;34m\"Unknown label type: %s\"\u001b[0m \u001b[0;34m%\u001b[0m \u001b[0mrepr\u001b[0m\u001b[0;34m(\u001b[0m\u001b[0mys\u001b[0m\u001b[0;34m)\u001b[0m\u001b[0;34m)\u001b[0m\u001b[0;34m\u001b[0m\u001b[0;34m\u001b[0m\u001b[0m\n\u001b[0m\u001b[1;32m    102\u001b[0m \u001b[0;34m\u001b[0m\u001b[0m\n\u001b[1;32m    103\u001b[0m     \u001b[0mys_labels\u001b[0m \u001b[0;34m=\u001b[0m \u001b[0mset\u001b[0m\u001b[0;34m(\u001b[0m\u001b[0mchain\u001b[0m\u001b[0;34m.\u001b[0m\u001b[0mfrom_iterable\u001b[0m\u001b[0;34m(\u001b[0m\u001b[0m_unique_labels\u001b[0m\u001b[0;34m(\u001b[0m\u001b[0my\u001b[0m\u001b[0;34m)\u001b[0m \u001b[0;32mfor\u001b[0m \u001b[0my\u001b[0m \u001b[0;32min\u001b[0m \u001b[0mys\u001b[0m\u001b[0;34m)\u001b[0m\u001b[0;34m)\u001b[0m\u001b[0;34m\u001b[0m\u001b[0;34m\u001b[0m\u001b[0m\n",
            "\u001b[0;31mValueError\u001b[0m: Unknown label type: (array([ 0.  ,  0.4 ,  0.75,  1.04,  1.05,  1.08,  1.15,  1.34,  1.64,\n        2.5 ,  2.64,  3.28,  3.49,  3.54,  3.64,  3.84,  4.  ,  4.07,\n        4.49,  4.76,  6.08,  6.14,  6.32,  6.67,  6.92,  6.99,  9.12,\n        9.21, 10.01, 10.78, 10.8 , 11.31, 12.49, 13.5 , 14.  , 15.29,\n       16.9 , 17.5 , 19.23, 19.28, 19.94, 20.27, 20.28, 20.32, 20.52,\n       21.37, 24.41, 24.54, 26.14, 27.39, 27.51, 27.74, 27.88, 28.08,\n       29.72, 32.37, 33.65, 35.22, 36.63, 37.84, 44.35, 44.72, 54.34,\n       59.28, 64.22]),)"
          ]
        }
      ]
    },
    {
      "cell_type": "markdown",
      "source": [
        "**Question 2-- Kmeans clustering with elbow method**"
      ],
      "metadata": {
        "id": "LP_IAy9IVnhh"
      }
    },
    {
      "cell_type": "code",
      "source": [
        "from sklearn.cluster import KMeans\n",
        "import pandas as pd\n",
        "from sklearn.preprocessing import MinMaxScaler\n",
        "from matplotlib import pyplot as plt\n",
        "%matplotlib inline"
      ],
      "metadata": {
        "id": "7L5KUCfuVZOy"
      },
      "execution_count": null,
      "outputs": []
    },
    {
      "cell_type": "code",
      "source": [
        "\n",
        "df = pd.read_csv(\"/content/India_Menu.csv\")\n",
        "df.head()"
      ],
      "metadata": {
        "colab": {
          "base_uri": "https://localhost:8080/",
          "height": 285
        },
        "id": "JVM5SEVSV06Z",
        "outputId": "ffb294a6-96d2-4c1e-e4f3-68adf4423e52"
      },
      "execution_count": null,
      "outputs": [
        {
          "output_type": "execute_result",
          "data": {
            "text/plain": [
              "  Menu Category              Menu Items Per Serve Size  Energy (kCal)  \\\n",
              "0  Regular Menu        McVeggie™ Burger          168 g         402.05   \n",
              "1  Regular Menu    McAloo Tikki Burger®          146 g         339.52   \n",
              "2  Regular Menu  McSpicy™ Paneer Burger          199 g         652.76   \n",
              "3  Regular Menu       Spicy Paneer Wrap          250 g         674.68   \n",
              "4  Regular Menu     American Veg Burger          177 g         512.17   \n",
              "\n",
              "   Protein (g)  Total fat (g)  Sat Fat (g)  Trans fat (g)  Cholesterols (mg)  \\\n",
              "0        10.24          13.83         5.34           0.16               2.49   \n",
              "1         8.50          11.31         4.27           0.20               1.47   \n",
              "2        20.29          39.45        17.12           0.18              21.85   \n",
              "3        20.96          39.10        19.73           0.26              40.93   \n",
              "4        15.30          23.45        10.51           0.17              25.24   \n",
              "\n",
              "   Total carbohydrate (g)  Total Sugars (g)  Added Sugars (g)  Sodium (mg)  \n",
              "0                   56.54              7.90              4.49       706.13  \n",
              "1                   50.27              7.05              4.07       545.34  \n",
              "2                   52.33              8.35              5.27      1074.58  \n",
              "3                   59.27              3.50              1.08      1087.46  \n",
              "4                   56.96              7.85              4.76      1051.24  "
            ],
            "text/html": [
              "\n",
              "  <div id=\"df-41b016f0-4385-4320-82af-ebfc53eb764d\">\n",
              "    <div class=\"colab-df-container\">\n",
              "      <div>\n",
              "<style scoped>\n",
              "    .dataframe tbody tr th:only-of-type {\n",
              "        vertical-align: middle;\n",
              "    }\n",
              "\n",
              "    .dataframe tbody tr th {\n",
              "        vertical-align: top;\n",
              "    }\n",
              "\n",
              "    .dataframe thead th {\n",
              "        text-align: right;\n",
              "    }\n",
              "</style>\n",
              "<table border=\"1\" class=\"dataframe\">\n",
              "  <thead>\n",
              "    <tr style=\"text-align: right;\">\n",
              "      <th></th>\n",
              "      <th>Menu Category</th>\n",
              "      <th>Menu Items</th>\n",
              "      <th>Per Serve Size</th>\n",
              "      <th>Energy (kCal)</th>\n",
              "      <th>Protein (g)</th>\n",
              "      <th>Total fat (g)</th>\n",
              "      <th>Sat Fat (g)</th>\n",
              "      <th>Trans fat (g)</th>\n",
              "      <th>Cholesterols (mg)</th>\n",
              "      <th>Total carbohydrate (g)</th>\n",
              "      <th>Total Sugars (g)</th>\n",
              "      <th>Added Sugars (g)</th>\n",
              "      <th>Sodium (mg)</th>\n",
              "    </tr>\n",
              "  </thead>\n",
              "  <tbody>\n",
              "    <tr>\n",
              "      <th>0</th>\n",
              "      <td>Regular Menu</td>\n",
              "      <td>McVeggie™ Burger</td>\n",
              "      <td>168 g</td>\n",
              "      <td>402.05</td>\n",
              "      <td>10.24</td>\n",
              "      <td>13.83</td>\n",
              "      <td>5.34</td>\n",
              "      <td>0.16</td>\n",
              "      <td>2.49</td>\n",
              "      <td>56.54</td>\n",
              "      <td>7.90</td>\n",
              "      <td>4.49</td>\n",
              "      <td>706.13</td>\n",
              "    </tr>\n",
              "    <tr>\n",
              "      <th>1</th>\n",
              "      <td>Regular Menu</td>\n",
              "      <td>McAloo Tikki Burger®</td>\n",
              "      <td>146 g</td>\n",
              "      <td>339.52</td>\n",
              "      <td>8.50</td>\n",
              "      <td>11.31</td>\n",
              "      <td>4.27</td>\n",
              "      <td>0.20</td>\n",
              "      <td>1.47</td>\n",
              "      <td>50.27</td>\n",
              "      <td>7.05</td>\n",
              "      <td>4.07</td>\n",
              "      <td>545.34</td>\n",
              "    </tr>\n",
              "    <tr>\n",
              "      <th>2</th>\n",
              "      <td>Regular Menu</td>\n",
              "      <td>McSpicy™ Paneer Burger</td>\n",
              "      <td>199 g</td>\n",
              "      <td>652.76</td>\n",
              "      <td>20.29</td>\n",
              "      <td>39.45</td>\n",
              "      <td>17.12</td>\n",
              "      <td>0.18</td>\n",
              "      <td>21.85</td>\n",
              "      <td>52.33</td>\n",
              "      <td>8.35</td>\n",
              "      <td>5.27</td>\n",
              "      <td>1074.58</td>\n",
              "    </tr>\n",
              "    <tr>\n",
              "      <th>3</th>\n",
              "      <td>Regular Menu</td>\n",
              "      <td>Spicy Paneer Wrap</td>\n",
              "      <td>250 g</td>\n",
              "      <td>674.68</td>\n",
              "      <td>20.96</td>\n",
              "      <td>39.10</td>\n",
              "      <td>19.73</td>\n",
              "      <td>0.26</td>\n",
              "      <td>40.93</td>\n",
              "      <td>59.27</td>\n",
              "      <td>3.50</td>\n",
              "      <td>1.08</td>\n",
              "      <td>1087.46</td>\n",
              "    </tr>\n",
              "    <tr>\n",
              "      <th>4</th>\n",
              "      <td>Regular Menu</td>\n",
              "      <td>American Veg Burger</td>\n",
              "      <td>177 g</td>\n",
              "      <td>512.17</td>\n",
              "      <td>15.30</td>\n",
              "      <td>23.45</td>\n",
              "      <td>10.51</td>\n",
              "      <td>0.17</td>\n",
              "      <td>25.24</td>\n",
              "      <td>56.96</td>\n",
              "      <td>7.85</td>\n",
              "      <td>4.76</td>\n",
              "      <td>1051.24</td>\n",
              "    </tr>\n",
              "  </tbody>\n",
              "</table>\n",
              "</div>\n",
              "      <button class=\"colab-df-convert\" onclick=\"convertToInteractive('df-41b016f0-4385-4320-82af-ebfc53eb764d')\"\n",
              "              title=\"Convert this dataframe to an interactive table.\"\n",
              "              style=\"display:none;\">\n",
              "        \n",
              "  <svg xmlns=\"http://www.w3.org/2000/svg\" height=\"24px\"viewBox=\"0 0 24 24\"\n",
              "       width=\"24px\">\n",
              "    <path d=\"M0 0h24v24H0V0z\" fill=\"none\"/>\n",
              "    <path d=\"M18.56 5.44l.94 2.06.94-2.06 2.06-.94-2.06-.94-.94-2.06-.94 2.06-2.06.94zm-11 1L8.5 8.5l.94-2.06 2.06-.94-2.06-.94L8.5 2.5l-.94 2.06-2.06.94zm10 10l.94 2.06.94-2.06 2.06-.94-2.06-.94-.94-2.06-.94 2.06-2.06.94z\"/><path d=\"M17.41 7.96l-1.37-1.37c-.4-.4-.92-.59-1.43-.59-.52 0-1.04.2-1.43.59L10.3 9.45l-7.72 7.72c-.78.78-.78 2.05 0 2.83L4 21.41c.39.39.9.59 1.41.59.51 0 1.02-.2 1.41-.59l7.78-7.78 2.81-2.81c.8-.78.8-2.07 0-2.86zM5.41 20L4 18.59l7.72-7.72 1.47 1.35L5.41 20z\"/>\n",
              "  </svg>\n",
              "      </button>\n",
              "      \n",
              "  <style>\n",
              "    .colab-df-container {\n",
              "      display:flex;\n",
              "      flex-wrap:wrap;\n",
              "      gap: 12px;\n",
              "    }\n",
              "\n",
              "    .colab-df-convert {\n",
              "      background-color: #E8F0FE;\n",
              "      border: none;\n",
              "      border-radius: 50%;\n",
              "      cursor: pointer;\n",
              "      display: none;\n",
              "      fill: #1967D2;\n",
              "      height: 32px;\n",
              "      padding: 0 0 0 0;\n",
              "      width: 32px;\n",
              "    }\n",
              "\n",
              "    .colab-df-convert:hover {\n",
              "      background-color: #E2EBFA;\n",
              "      box-shadow: 0px 1px 2px rgba(60, 64, 67, 0.3), 0px 1px 3px 1px rgba(60, 64, 67, 0.15);\n",
              "      fill: #174EA6;\n",
              "    }\n",
              "\n",
              "    [theme=dark] .colab-df-convert {\n",
              "      background-color: #3B4455;\n",
              "      fill: #D2E3FC;\n",
              "    }\n",
              "\n",
              "    [theme=dark] .colab-df-convert:hover {\n",
              "      background-color: #434B5C;\n",
              "      box-shadow: 0px 1px 3px 1px rgba(0, 0, 0, 0.15);\n",
              "      filter: drop-shadow(0px 1px 2px rgba(0, 0, 0, 0.3));\n",
              "      fill: #FFFFFF;\n",
              "    }\n",
              "  </style>\n",
              "\n",
              "      <script>\n",
              "        const buttonEl =\n",
              "          document.querySelector('#df-41b016f0-4385-4320-82af-ebfc53eb764d button.colab-df-convert');\n",
              "        buttonEl.style.display =\n",
              "          google.colab.kernel.accessAllowed ? 'block' : 'none';\n",
              "\n",
              "        async function convertToInteractive(key) {\n",
              "          const element = document.querySelector('#df-41b016f0-4385-4320-82af-ebfc53eb764d');\n",
              "          const dataTable =\n",
              "            await google.colab.kernel.invokeFunction('convertToInteractive',\n",
              "                                                     [key], {});\n",
              "          if (!dataTable) return;\n",
              "\n",
              "          const docLinkHtml = 'Like what you see? Visit the ' +\n",
              "            '<a target=\"_blank\" href=https://colab.research.google.com/notebooks/data_table.ipynb>data table notebook</a>'\n",
              "            + ' to learn more about interactive tables.';\n",
              "          element.innerHTML = '';\n",
              "          dataTable['output_type'] = 'display_data';\n",
              "          await google.colab.output.renderOutput(dataTable, element);\n",
              "          const docLink = document.createElement('div');\n",
              "          docLink.innerHTML = docLinkHtml;\n",
              "          element.appendChild(docLink);\n",
              "        }\n",
              "      </script>\n",
              "    </div>\n",
              "  </div>\n",
              "  "
            ]
          },
          "metadata": {},
          "execution_count": 61
        }
      ]
    },
    {
      "cell_type": "markdown",
      "source": [
        "-->Here I am checking if their is any null values so 'Sodium' has one."
      ],
      "metadata": {
        "id": "wJ-B-CE3ZNzF"
      }
    },
    {
      "cell_type": "code",
      "source": [
        "df.isnull().any()"
      ],
      "metadata": {
        "colab": {
          "base_uri": "https://localhost:8080/"
        },
        "id": "K1dE3gBFWP-B",
        "outputId": "0e8d9376-e418-4ca3-c282-de0102645c0a"
      },
      "execution_count": null,
      "outputs": [
        {
          "output_type": "execute_result",
          "data": {
            "text/plain": [
              "Menu Category             False\n",
              "Menu Items                False\n",
              "Per Serve Size            False\n",
              "Energy (kCal)             False\n",
              "Protein (g)               False\n",
              "Total fat (g)             False\n",
              "Sat Fat (g)               False\n",
              "Trans fat (g)             False\n",
              "Cholesterols (mg)         False\n",
              "Total carbohydrate (g)    False\n",
              "Total Sugars (g)          False\n",
              "Added Sugars (g)          False\n",
              "Sodium (mg)                True\n",
              "dtype: bool"
            ]
          },
          "metadata": {},
          "execution_count": 62
        }
      ]
    },
    {
      "cell_type": "markdown",
      "source": [
        "-->Here I am replacing null values to 0 "
      ],
      "metadata": {
        "id": "plMnlZdLZYnl"
      }
    },
    {
      "cell_type": "code",
      "source": [
        "df.replace(np.NAN,0,inplace=True)"
      ],
      "metadata": {
        "id": "aNl4XpJHWZHD"
      },
      "execution_count": null,
      "outputs": []
    },
    {
      "cell_type": "markdown",
      "source": [
        "-->Here I am again checking if any null values are left. All are false so no null values left"
      ],
      "metadata": {
        "id": "XWtH8vPHZiS9"
      }
    },
    {
      "cell_type": "code",
      "source": [
        "df.isnull().any()"
      ],
      "metadata": {
        "colab": {
          "base_uri": "https://localhost:8080/"
        },
        "id": "RNJdxy33WbgJ",
        "outputId": "8f9c8ea8-18c3-43cf-c757-07b906278be1"
      },
      "execution_count": null,
      "outputs": [
        {
          "output_type": "execute_result",
          "data": {
            "text/plain": [
              "Menu Category             False\n",
              "Menu Items                False\n",
              "Per Serve Size            False\n",
              "Energy (kCal)             False\n",
              "Protein (g)               False\n",
              "Total fat (g)             False\n",
              "Sat Fat (g)               False\n",
              "Trans fat (g)             False\n",
              "Cholesterols (mg)         False\n",
              "Total carbohydrate (g)    False\n",
              "Total Sugars (g)          False\n",
              "Added Sugars (g)          False\n",
              "Sodium (mg)               False\n",
              "dtype: bool"
            ]
          },
          "metadata": {},
          "execution_count": 64
        }
      ]
    },
    {
      "cell_type": "markdown",
      "source": [
        "-->Here clustering is applied between two columns - Protein and Energy\n",
        "   and a scatter plot is plotted for the same"
      ],
      "metadata": {
        "id": "7G95jQr1Z1Xe"
      }
    },
    {
      "cell_type": "code",
      "source": [
        "plt.scatter(df['Energy (kCal)'],df['Protein (g)'])\n",
        "plt.xlabel('Energy(kCal)')\n",
        "plt.ylabel('Protein(g)')"
      ],
      "metadata": {
        "colab": {
          "base_uri": "https://localhost:8080/",
          "height": 296
        },
        "id": "PGZa4nDFV5zx",
        "outputId": "04fff845-7708-42ec-d286-475f9d91d1fd"
      },
      "execution_count": null,
      "outputs": [
        {
          "output_type": "execute_result",
          "data": {
            "text/plain": [
              "Text(0, 0.5, 'Protein(g)')"
            ]
          },
          "metadata": {},
          "execution_count": 67
        },
        {
          "output_type": "display_data",
          "data": {
            "text/plain": [
              "<Figure size 432x288 with 1 Axes>"
            ],
            "image/png": "[encoded data removed]"
          },
          "metadata": {
            "needs_background": "light"
          }
        }
      ]
    },
    {
      "cell_type": "markdown",
      "source": [
        "Here whole graph is devided into 3 clusters in the group of 0,1 and 2."
      ],
      "metadata": {
        "id": "cvmPyZYfaJxN"
      }
    },
    {
      "cell_type": "code",
      "source": [
        "km = KMeans(n_clusters=3)\n",
        "y_predicted = km.fit_predict(df[['Energy (kCal)','Protein (g)']])\n",
        "y_predicted"
      ],
      "metadata": {
        "colab": {
          "base_uri": "https://localhost:8080/"
        },
        "id": "WwLpz0eyWCa4",
        "outputId": "ddb10263-504b-43f1-ab83-d29b6ae33b8d"
      },
      "execution_count": null,
      "outputs": [
        {
          "output_type": "execute_result",
          "data": {
            "text/plain": [
              "array([0, 0, 2, 2, 2, 2, 0, 0, 0, 0, 0, 2, 2, 0, 0, 0, 0, 0, 2, 0, 1, 0,\n",
              "       0, 1, 0, 0, 0, 0, 0, 0, 0, 0, 1, 1, 0, 0, 0, 0, 0, 0, 0, 0, 0, 1,\n",
              "       1, 1, 1, 1, 1, 1, 1, 0, 1, 1, 0, 1, 0, 0, 1, 0, 0, 1, 0, 0, 0, 0,\n",
              "       0, 1, 1, 1, 1, 1, 1, 1, 1, 1, 1, 1, 1, 1, 0, 0, 2, 0, 0, 0, 0, 1,\n",
              "       1, 1, 1, 0, 1, 1, 1, 1, 1, 1, 0, 0, 0, 0, 1, 0, 0, 2, 2, 2, 2, 2,\n",
              "       2, 0, 2, 0, 0, 1, 1, 0, 1, 1, 0, 1, 1, 1, 1, 1, 0, 1, 1, 1, 1, 1,\n",
              "       1, 1, 1, 1, 1, 1, 1, 1, 1], dtype=int32)"
            ]
          },
          "metadata": {},
          "execution_count": 68
        }
      ]
    },
    {
      "cell_type": "code",
      "source": [
        "df['cluster']=y_predicted\n",
        "df.head()"
      ],
      "metadata": {
        "colab": {
          "base_uri": "https://localhost:8080/",
          "height": 354
        },
        "id": "4OKMPHdkW5Fa",
        "outputId": "0cd4d275-b119-4df6-c55e-5adf01358847"
      },
      "execution_count": null,
      "outputs": [
        {
          "output_type": "execute_result",
          "data": {
            "text/plain": [
              "  Menu Category              Menu Items Per Serve Size  Energy (kCal)  \\\n",
              "0  Regular Menu        McVeggie™ Burger          168 g         402.05   \n",
              "1  Regular Menu    McAloo Tikki Burger®          146 g         339.52   \n",
              "2  Regular Menu  McSpicy™ Paneer Burger          199 g         652.76   \n",
              "3  Regular Menu       Spicy Paneer Wrap          250 g         674.68   \n",
              "4  Regular Menu     American Veg Burger          177 g         512.17   \n",
              "\n",
              "   Protein (g)  Total fat (g)  Sat Fat (g)  Trans fat (g)  Cholesterols (mg)  \\\n",
              "0        10.24          13.83         5.34           0.16               2.49   \n",
              "1         8.50          11.31         4.27           0.20               1.47   \n",
              "2        20.29          39.45        17.12           0.18              21.85   \n",
              "3        20.96          39.10        19.73           0.26              40.93   \n",
              "4        15.30          23.45        10.51           0.17              25.24   \n",
              "\n",
              "   Total carbohydrate (g)  Total Sugars (g)  Added Sugars (g)  Sodium (mg)  \\\n",
              "0                   56.54              7.90              4.49       706.13   \n",
              "1                   50.27              7.05              4.07       545.34   \n",
              "2                   52.33              8.35              5.27      1074.58   \n",
              "3                   59.27              3.50              1.08      1087.46   \n",
              "4                   56.96              7.85              4.76      1051.24   \n",
              "\n",
              "   cluster  \n",
              "0        0  \n",
              "1        0  \n",
              "2        2  \n",
              "3        2  \n",
              "4        2  "
            ],
            "text/html": [
              "\n",
              "  <div id=\"df-c461faca-e67b-4d2e-9a3e-5a0e0fc19a61\">\n",
              "    <div class=\"colab-df-container\">\n",
              "      <div>\n",
              "<style scoped>\n",
              "    .dataframe tbody tr th:only-of-type {\n",
              "        vertical-align: middle;\n",
              "    }\n",
              "\n",
              "    .dataframe tbody tr th {\n",
              "        vertical-align: top;\n",
              "    }\n",
              "\n",
              "    .dataframe thead th {\n",
              "        text-align: right;\n",
              "    }\n",
              "</style>\n",
              "<table border=\"1\" class=\"dataframe\">\n",
              "  <thead>\n",
              "    <tr style=\"text-align: right;\">\n",
              "      <th></th>\n",
              "      <th>Menu Category</th>\n",
              "      <th>Menu Items</th>\n",
              "      <th>Per Serve Size</th>\n",
              "      <th>Energy (kCal)</th>\n",
              "      <th>Protein (g)</th>\n",
              "      <th>Total fat (g)</th>\n",
              "      <th>Sat Fat (g)</th>\n",
              "      <th>Trans fat (g)</th>\n",
              "      <th>Cholesterols (mg)</th>\n",
              "      <th>Total carbohydrate (g)</th>\n",
              "      <th>Total Sugars (g)</th>\n",
              "      <th>Added Sugars (g)</th>\n",
              "      <th>Sodium (mg)</th>\n",
              "      <th>cluster</th>\n",
              "    </tr>\n",
              "  </thead>\n",
              "  <tbody>\n",
              "    <tr>\n",
              "      <th>0</th>\n",
              "      <td>Regular Menu</td>\n",
              "      <td>McVeggie™ Burger</td>\n",
              "      <td>168 g</td>\n",
              "      <td>402.05</td>\n",
              "      <td>10.24</td>\n",
              "      <td>13.83</td>\n",
              "      <td>5.34</td>\n",
              "      <td>0.16</td>\n",
              "      <td>2.49</td>\n",
              "      <td>56.54</td>\n",
              "      <td>7.90</td>\n",
              "      <td>4.49</td>\n",
              "      <td>706.13</td>\n",
              "      <td>0</td>\n",
              "    </tr>\n",
              "    <tr>\n",
              "      <th>1</th>\n",
              "      <td>Regular Menu</td>\n",
              "      <td>McAloo Tikki Burger®</td>\n",
              "      <td>146 g</td>\n",
              "      <td>339.52</td>\n",
              "      <td>8.50</td>\n",
              "      <td>11.31</td>\n",
              "      <td>4.27</td>\n",
              "      <td>0.20</td>\n",
              "      <td>1.47</td>\n",
              "      <td>50.27</td>\n",
              "      <td>7.05</td>\n",
              "      <td>4.07</td>\n",
              "      <td>545.34</td>\n",
              "      <td>0</td>\n",
              "    </tr>\n",
              "    <tr>\n",
              "      <th>2</th>\n",
              "      <td>Regular Menu</td>\n",
              "      <td>McSpicy™ Paneer Burger</td>\n",
              "      <td>199 g</td>\n",
              "      <td>652.76</td>\n",
              "      <td>20.29</td>\n",
              "      <td>39.45</td>\n",
              "      <td>17.12</td>\n",
              "      <td>0.18</td>\n",
              "      <td>21.85</td>\n",
              "      <td>52.33</td>\n",
              "      <td>8.35</td>\n",
              "      <td>5.27</td>\n",
              "      <td>1074.58</td>\n",
              "      <td>2</td>\n",
              "    </tr>\n",
              "    <tr>\n",
              "      <th>3</th>\n",
              "      <td>Regular Menu</td>\n",
              "      <td>Spicy Paneer Wrap</td>\n",
              "      <td>250 g</td>\n",
              "      <td>674.68</td>\n",
              "      <td>20.96</td>\n",
              "      <td>39.10</td>\n",
              "      <td>19.73</td>\n",
              "      <td>0.26</td>\n",
              "      <td>40.93</td>\n",
              "      <td>59.27</td>\n",
              "      <td>3.50</td>\n",
              "      <td>1.08</td>\n",
              "      <td>1087.46</td>\n",
              "      <td>2</td>\n",
              "    </tr>\n",
              "    <tr>\n",
              "      <th>4</th>\n",
              "      <td>Regular Menu</td>\n",
              "      <td>American Veg Burger</td>\n",
              "      <td>177 g</td>\n",
              "      <td>512.17</td>\n",
              "      <td>15.30</td>\n",
              "      <td>23.45</td>\n",
              "      <td>10.51</td>\n",
              "      <td>0.17</td>\n",
              "      <td>25.24</td>\n",
              "      <td>56.96</td>\n",
              "      <td>7.85</td>\n",
              "      <td>4.76</td>\n",
              "      <td>1051.24</td>\n",
              "      <td>2</td>\n",
              "    </tr>\n",
              "  </tbody>\n",
              "</table>\n",
              "</div>\n",
              "      <button class=\"colab-df-convert\" onclick=\"convertToInteractive('df-c461faca-e67b-4d2e-9a3e-5a0e0fc19a61')\"\n",
              "              title=\"Convert this dataframe to an interactive table.\"\n",
              "              style=\"display:none;\">\n",
              "        \n",
              "  <svg xmlns=\"http://www.w3.org/2000/svg\" height=\"24px\"viewBox=\"0 0 24 24\"\n",
              "       width=\"24px\">\n",
              "    <path d=\"M0 0h24v24H0V0z\" fill=\"none\"/>\n",
              "    <path d=\"M18.56 5.44l.94 2.06.94-2.06 2.06-.94-2.06-.94-.94-2.06-.94 2.06-2.06.94zm-11 1L8.5 8.5l.94-2.06 2.06-.94-2.06-.94L8.5 2.5l-.94 2.06-2.06.94zm10 10l.94 2.06.94-2.06 2.06-.94-2.06-.94-.94-2.06-.94 2.06-2.06.94z\"/><path d=\"M17.41 7.96l-1.37-1.37c-.4-.4-.92-.59-1.43-.59-.52 0-1.04.2-1.43.59L10.3 9.45l-7.72 7.72c-.78.78-.78 2.05 0 2.83L4 21.41c.39.39.9.59 1.41.59.51 0 1.02-.2 1.41-.59l7.78-7.78 2.81-2.81c.8-.78.8-2.07 0-2.86zM5.41 20L4 18.59l7.72-7.72 1.47 1.35L5.41 20z\"/>\n",
              "  </svg>\n",
              "      </button>\n",
              "      \n",
              "  <style>\n",
              "    .colab-df-container {\n",
              "      display:flex;\n",
              "      flex-wrap:wrap;\n",
              "      gap: 12px;\n",
              "    }\n",
              "\n",
              "    .colab-df-convert {\n",
              "      background-color: #E8F0FE;\n",
              "      border: none;\n",
              "      border-radius: 50%;\n",
              "      cursor: pointer;\n",
              "      display: none;\n",
              "      fill: #1967D2;\n",
              "      height: 32px;\n",
              "      padding: 0 0 0 0;\n",
              "      width: 32px;\n",
              "    }\n",
              "\n",
              "    .colab-df-convert:hover {\n",
              "      background-color: #E2EBFA;\n",
              "      box-shadow: 0px 1px 2px rgba(60, 64, 67, 0.3), 0px 1px 3px 1px rgba(60, 64, 67, 0.15);\n",
              "      fill: #174EA6;\n",
              "    }\n",
              "\n",
              "    [theme=dark] .colab-df-convert {\n",
              "      background-color: #3B4455;\n",
              "      fill: #D2E3FC;\n",
              "    }\n",
              "\n",
              "    [theme=dark] .colab-df-convert:hover {\n",
              "      background-color: #434B5C;\n",
              "      box-shadow: 0px 1px 3px 1px rgba(0, 0, 0, 0.15);\n",
              "      filter: drop-shadow(0px 1px 2px rgba(0, 0, 0, 0.3));\n",
              "      fill: #FFFFFF;\n",
              "    }\n",
              "  </style>\n",
              "\n",
              "      <script>\n",
              "        const buttonEl =\n",
              "          document.querySelector('#df-c461faca-e67b-4d2e-9a3e-5a0e0fc19a61 button.colab-df-convert');\n",
              "        buttonEl.style.display =\n",
              "          google.colab.kernel.accessAllowed ? 'block' : 'none';\n",
              "\n",
              "        async function convertToInteractive(key) {\n",
              "          const element = document.querySelector('#df-c461faca-e67b-4d2e-9a3e-5a0e0fc19a61');\n",
              "          const dataTable =\n",
              "            await google.colab.kernel.invokeFunction('convertToInteractive',\n",
              "                                                     [key], {});\n",
              "          if (!dataTable) return;\n",
              "\n",
              "          const docLinkHtml = 'Like what you see? Visit the ' +\n",
              "            '<a target=\"_blank\" href=https://colab.research.google.com/notebooks/data_table.ipynb>data table notebook</a>'\n",
              "            + ' to learn more about interactive tables.';\n",
              "          element.innerHTML = '';\n",
              "          dataTable['output_type'] = 'display_data';\n",
              "          await google.colab.output.renderOutput(dataTable, element);\n",
              "          const docLink = document.createElement('div');\n",
              "          docLink.innerHTML = docLinkHtml;\n",
              "          element.appendChild(docLink);\n",
              "        }\n",
              "      </script>\n",
              "    </div>\n",
              "  </div>\n",
              "  "
            ]
          },
          "metadata": {},
          "execution_count": 69
        }
      ]
    },
    {
      "cell_type": "markdown",
      "source": [
        "-->These are coordinates which are cluster centers of three clusters respectively"
      ],
      "metadata": {
        "id": "euC-zsFyadr1"
      }
    },
    {
      "cell_type": "code",
      "source": [
        "km.cluster_centers_"
      ],
      "metadata": {
        "colab": {
          "base_uri": "https://localhost:8080/"
        },
        "id": "LK38RPZHXeWS",
        "outputId": "f7923c90-acea-4a35-9aef-fa2dd3fb0bad"
      },
      "execution_count": null,
      "outputs": [
        {
          "output_type": "execute_result",
          "data": {
            "text/plain": [
              "array([[306.04596774,   9.64532258],\n",
              "       [ 92.8490625 ,   1.87359375],\n",
              "       [638.42733333,  22.578     ]])"
            ]
          },
          "metadata": {},
          "execution_count": 70
        }
      ]
    },
    {
      "cell_type": "markdown",
      "source": [
        "-->Here the scatter plot is devided into three clusters and all have their cluster centers shown with '*'"
      ],
      "metadata": {
        "id": "yMRkkyVEan4l"
      }
    },
    {
      "cell_type": "code",
      "source": [
        "df1 = df[df.cluster==0]\n",
        "df2 = df[df.cluster==1]\n",
        "df3 = df[df.cluster==2]\n",
        "plt.scatter(df1['Energy (kCal)'],df1['Protein (g)'],color='green')\n",
        "plt.scatter(df2['Energy (kCal)'],df2['Protein (g)'],color='red')\n",
        "plt.scatter(df3['Energy (kCal)'],df3['Protein (g)'],color='black')\n",
        "plt.scatter(km.cluster_centers_[:,0],km.cluster_centers_[:,1],color='purple',marker='*',label='centroid')\n",
        "plt.xlabel('Energy (kCal)')\n",
        "plt.ylabel('Protein (g)')\n",
        "plt.legend()\n"
      ],
      "metadata": {
        "colab": {
          "base_uri": "https://localhost:8080/",
          "height": 296
        },
        "id": "03xS2QbZXjhB",
        "outputId": "ee9c1e05-d15a-4553-8940-7230f9ee6e40"
      },
      "execution_count": null,
      "outputs": [
        {
          "output_type": "execute_result",
          "data": {
            "text/plain": [
              "<matplotlib.legend.Legend at 0x7f9c2c12e150>"
            ]
          },
          "metadata": {},
          "execution_count": 82
        },
        {
          "output_type": "display_data",
          "data": {
            "text/plain": [
              "<Figure size 432x288 with 1 Axes>"
            ],
            "image/png": "[encoded data removed]"
          },
          "metadata": {
            "needs_background": "light"
          }
        }
      ]
    },
    {
      "cell_type": "markdown",
      "source": [
        "-->Here dataset is getting transformed for further clustering"
      ],
      "metadata": {
        "id": "PHGNUdvAbKc1"
      }
    },
    {
      "cell_type": "code",
      "source": [
        "scaler = MinMaxScaler()\n",
        "\n",
        "scaler.fit(df[['Protein (g)']])\n",
        "df['Protein (g)'] = scaler.transform(df[['Protein (g)']])\n",
        "\n",
        "scaler.fit(df[['Energy (kCal)']])\n",
        "df['Energy (kCal)'] = scaler.transform(df[['Energy (kCal)']])\n",
        "\n",
        "df.head()\n"
      ],
      "metadata": {
        "colab": {
          "base_uri": "https://localhost:8080/",
          "height": 354
        },
        "id": "YATkzL5TXoQo",
        "outputId": "d2299253-30c6-4773-fb6b-7171bb7c5f45"
      },
      "execution_count": null,
      "outputs": [
        {
          "output_type": "execute_result",
          "data": {
            "text/plain": [
              "  Menu Category              Menu Items Per Serve Size  Energy (kCal)  \\\n",
              "0  Regular Menu        McVeggie™ Burger          168 g       0.481866   \n",
              "1  Regular Menu    McAloo Tikki Burger®          146 g       0.406923   \n",
              "2  Regular Menu  McSpicy™ Paneer Burger          199 g       0.782348   \n",
              "3  Regular Menu       Spicy Paneer Wrap          250 g       0.808620   \n",
              "4  Regular Menu     American Veg Burger          177 g       0.613848   \n",
              "\n",
              "   Protein (g)  Total fat (g)  Sat Fat (g)  Trans fat (g)  Cholesterols (mg)  \\\n",
              "0     0.259438          13.83         5.34           0.16               2.49   \n",
              "1     0.215353          11.31         4.27           0.20               1.47   \n",
              "2     0.514061          39.45        17.12           0.18              21.85   \n",
              "3     0.531036          39.10        19.73           0.26              40.93   \n",
              "4     0.387636          23.45        10.51           0.17              25.24   \n",
              "\n",
              "   Total carbohydrate (g)  Total Sugars (g)  Added Sugars (g)  Sodium (mg)  \\\n",
              "0                   56.54              7.90              4.49       706.13   \n",
              "1                   50.27              7.05              4.07       545.34   \n",
              "2                   52.33              8.35              5.27      1074.58   \n",
              "3                   59.27              3.50              1.08      1087.46   \n",
              "4                   56.96              7.85              4.76      1051.24   \n",
              "\n",
              "   cluster  \n",
              "0        0  \n",
              "1        0  \n",
              "2        2  \n",
              "3        2  \n",
              "4        2  "
            ],
            "text/html": [
              "\n",
              "  <div id=\"df-3e494e5b-a88e-4ab0-8605-2c83d578c1cf\">\n",
              "    <div class=\"colab-df-container\">\n",
              "      <div>\n",
              "<style scoped>\n",
              "    .dataframe tbody tr th:only-of-type {\n",
              "        vertical-align: middle;\n",
              "    }\n",
              "\n",
              "    .dataframe tbody tr th {\n",
              "        vertical-align: top;\n",
              "    }\n",
              "\n",
              "    .dataframe thead th {\n",
              "        text-align: right;\n",
              "    }\n",
              "</style>\n",
              "<table border=\"1\" class=\"dataframe\">\n",
              "  <thead>\n",
              "    <tr style=\"text-align: right;\">\n",
              "      <th></th>\n",
              "      <th>Menu Category</th>\n",
              "      <th>Menu Items</th>\n",
              "      <th>Per Serve Size</th>\n",
              "      <th>Energy (kCal)</th>\n",
              "      <th>Protein (g)</th>\n",
              "      <th>Total fat (g)</th>\n",
              "      <th>Sat Fat (g)</th>\n",
              "      <th>Trans fat (g)</th>\n",
              "      <th>Cholesterols (mg)</th>\n",
              "      <th>Total carbohydrate (g)</th>\n",
              "      <th>Total Sugars (g)</th>\n",
              "      <th>Added Sugars (g)</th>\n",
              "      <th>Sodium (mg)</th>\n",
              "      <th>cluster</th>\n",
              "    </tr>\n",
              "  </thead>\n",
              "  <tbody>\n",
              "    <tr>\n",
              "      <th>0</th>\n",
              "      <td>Regular Menu</td>\n",
              "      <td>McVeggie™ Burger</td>\n",
              "      <td>168 g</td>\n",
              "      <td>0.481866</td>\n",
              "      <td>0.259438</td>\n",
              "      <td>13.83</td>\n",
              "      <td>5.34</td>\n",
              "      <td>0.16</td>\n",
              "      <td>2.49</td>\n",
              "      <td>56.54</td>\n",
              "      <td>7.90</td>\n",
              "      <td>4.49</td>\n",
              "      <td>706.13</td>\n",
              "      <td>0</td>\n",
              "    </tr>\n",
              "    <tr>\n",
              "      <th>1</th>\n",
              "      <td>Regular Menu</td>\n",
              "      <td>McAloo Tikki Burger®</td>\n",
              "      <td>146 g</td>\n",
              "      <td>0.406923</td>\n",
              "      <td>0.215353</td>\n",
              "      <td>11.31</td>\n",
              "      <td>4.27</td>\n",
              "      <td>0.20</td>\n",
              "      <td>1.47</td>\n",
              "      <td>50.27</td>\n",
              "      <td>7.05</td>\n",
              "      <td>4.07</td>\n",
              "      <td>545.34</td>\n",
              "      <td>0</td>\n",
              "    </tr>\n",
              "    <tr>\n",
              "      <th>2</th>\n",
              "      <td>Regular Menu</td>\n",
              "      <td>McSpicy™ Paneer Burger</td>\n",
              "      <td>199 g</td>\n",
              "      <td>0.782348</td>\n",
              "      <td>0.514061</td>\n",
              "      <td>39.45</td>\n",
              "      <td>17.12</td>\n",
              "      <td>0.18</td>\n",
              "      <td>21.85</td>\n",
              "      <td>52.33</td>\n",
              "      <td>8.35</td>\n",
              "      <td>5.27</td>\n",
              "      <td>1074.58</td>\n",
              "      <td>2</td>\n",
              "    </tr>\n",
              "    <tr>\n",
              "      <th>3</th>\n",
              "      <td>Regular Menu</td>\n",
              "      <td>Spicy Paneer Wrap</td>\n",
              "      <td>250 g</td>\n",
              "      <td>0.808620</td>\n",
              "      <td>0.531036</td>\n",
              "      <td>39.10</td>\n",
              "      <td>19.73</td>\n",
              "      <td>0.26</td>\n",
              "      <td>40.93</td>\n",
              "      <td>59.27</td>\n",
              "      <td>3.50</td>\n",
              "      <td>1.08</td>\n",
              "      <td>1087.46</td>\n",
              "      <td>2</td>\n",
              "    </tr>\n",
              "    <tr>\n",
              "      <th>4</th>\n",
              "      <td>Regular Menu</td>\n",
              "      <td>American Veg Burger</td>\n",
              "      <td>177 g</td>\n",
              "      <td>0.613848</td>\n",
              "      <td>0.387636</td>\n",
              "      <td>23.45</td>\n",
              "      <td>10.51</td>\n",
              "      <td>0.17</td>\n",
              "      <td>25.24</td>\n",
              "      <td>56.96</td>\n",
              "      <td>7.85</td>\n",
              "      <td>4.76</td>\n",
              "      <td>1051.24</td>\n",
              "      <td>2</td>\n",
              "    </tr>\n",
              "  </tbody>\n",
              "</table>\n",
              "</div>\n",
              "      <button class=\"colab-df-convert\" onclick=\"convertToInteractive('df-3e494e5b-a88e-4ab0-8605-2c83d578c1cf')\"\n",
              "              title=\"Convert this dataframe to an interactive table.\"\n",
              "              style=\"display:none;\">\n",
              "        \n",
              "  <svg xmlns=\"http://www.w3.org/2000/svg\" height=\"24px\"viewBox=\"0 0 24 24\"\n",
              "       width=\"24px\">\n",
              "    <path d=\"M0 0h24v24H0V0z\" fill=\"none\"/>\n",
              "    <path d=\"M18.56 5.44l.94 2.06.94-2.06 2.06-.94-2.06-.94-.94-2.06-.94 2.06-2.06.94zm-11 1L8.5 8.5l.94-2.06 2.06-.94-2.06-.94L8.5 2.5l-.94 2.06-2.06.94zm10 10l.94 2.06.94-2.06 2.06-.94-2.06-.94-.94-2.06-.94 2.06-2.06.94z\"/><path d=\"M17.41 7.96l-1.37-1.37c-.4-.4-.92-.59-1.43-.59-.52 0-1.04.2-1.43.59L10.3 9.45l-7.72 7.72c-.78.78-.78 2.05 0 2.83L4 21.41c.39.39.9.59 1.41.59.51 0 1.02-.2 1.41-.59l7.78-7.78 2.81-2.81c.8-.78.8-2.07 0-2.86zM5.41 20L4 18.59l7.72-7.72 1.47 1.35L5.41 20z\"/>\n",
              "  </svg>\n",
              "      </button>\n",
              "      \n",
              "  <style>\n",
              "    .colab-df-container {\n",
              "      display:flex;\n",
              "      flex-wrap:wrap;\n",
              "      gap: 12px;\n",
              "    }\n",
              "\n",
              "    .colab-df-convert {\n",
              "      background-color: #E8F0FE;\n",
              "      border: none;\n",
              "      border-radius: 50%;\n",
              "      cursor: pointer;\n",
              "      display: none;\n",
              "      fill: #1967D2;\n",
              "      height: 32px;\n",
              "      padding: 0 0 0 0;\n",
              "      width: 32px;\n",
              "    }\n",
              "\n",
              "    .colab-df-convert:hover {\n",
              "      background-color: #E2EBFA;\n",
              "      box-shadow: 0px 1px 2px rgba(60, 64, 67, 0.3), 0px 1px 3px 1px rgba(60, 64, 67, 0.15);\n",
              "      fill: #174EA6;\n",
              "    }\n",
              "\n",
              "    [theme=dark] .colab-df-convert {\n",
              "      background-color: #3B4455;\n",
              "      fill: #D2E3FC;\n",
              "    }\n",
              "\n",
              "    [theme=dark] .colab-df-convert:hover {\n",
              "      background-color: #434B5C;\n",
              "      box-shadow: 0px 1px 3px 1px rgba(0, 0, 0, 0.15);\n",
              "      filter: drop-shadow(0px 1px 2px rgba(0, 0, 0, 0.3));\n",
              "      fill: #FFFFFF;\n",
              "    }\n",
              "  </style>\n",
              "\n",
              "      <script>\n",
              "        const buttonEl =\n",
              "          document.querySelector('#df-3e494e5b-a88e-4ab0-8605-2c83d578c1cf button.colab-df-convert');\n",
              "        buttonEl.style.display =\n",
              "          google.colab.kernel.accessAllowed ? 'block' : 'none';\n",
              "\n",
              "        async function convertToInteractive(key) {\n",
              "          const element = document.querySelector('#df-3e494e5b-a88e-4ab0-8605-2c83d578c1cf');\n",
              "          const dataTable =\n",
              "            await google.colab.kernel.invokeFunction('convertToInteractive',\n",
              "                                                     [key], {});\n",
              "          if (!dataTable) return;\n",
              "\n",
              "          const docLinkHtml = 'Like what you see? Visit the ' +\n",
              "            '<a target=\"_blank\" href=https://colab.research.google.com/notebooks/data_table.ipynb>data table notebook</a>'\n",
              "            + ' to learn more about interactive tables.';\n",
              "          element.innerHTML = '';\n",
              "          dataTable['output_type'] = 'display_data';\n",
              "          await google.colab.output.renderOutput(dataTable, element);\n",
              "          const docLink = document.createElement('div');\n",
              "          docLink.innerHTML = docLinkHtml;\n",
              "          element.appendChild(docLink);\n",
              "        }\n",
              "      </script>\n",
              "    </div>\n",
              "  </div>\n",
              "  "
            ]
          },
          "metadata": {},
          "execution_count": 73
        }
      ]
    },
    {
      "cell_type": "code",
      "source": [
        "plt.scatter(df['Energy (kCal)'],df['Protein (g)'])\n"
      ],
      "metadata": {
        "colab": {
          "base_uri": "https://localhost:8080/",
          "height": 282
        },
        "id": "PlTrMzG8Yk63",
        "outputId": "0e523899-ca3c-4616-d0d0-f5c8b8ae56da"
      },
      "execution_count": null,
      "outputs": [
        {
          "output_type": "execute_result",
          "data": {
            "text/plain": [
              "<matplotlib.collections.PathCollection at 0x7f9c2eb18890>"
            ]
          },
          "metadata": {},
          "execution_count": 74
        },
        {
          "output_type": "display_data",
          "data": {
            "text/plain": [
              "<Figure size 432x288 with 1 Axes>"
            ],
            "image/png": "[encoded data removed]"
          },
          "metadata": {
            "needs_background": "light"
          }
        }
      ]
    },
    {
      "cell_type": "markdown",
      "source": [
        "-->Here clustering of normalised dataset is performed"
      ],
      "metadata": {
        "id": "UXZsWEg9bUOM"
      }
    },
    {
      "cell_type": "code",
      "source": [
        "km = KMeans(n_clusters=3)\n",
        "y_predicted = km.fit_predict(df[['Energy (kCal)','Protein (g)']])\n",
        "y_predicted\n"
      ],
      "metadata": {
        "colab": {
          "base_uri": "https://localhost:8080/"
        },
        "id": "6kXNdvVMYrMm",
        "outputId": "6b255257-4381-4ba1-d0fd-d34ecd3a9d36"
      },
      "execution_count": null,
      "outputs": [
        {
          "output_type": "execute_result",
          "data": {
            "text/plain": [
              "array([2, 2, 1, 1, 1, 1, 2, 2, 2, 2, 1, 1, 1, 1, 2, 2, 2, 2, 1, 2, 2, 2,\n",
              "       1, 2, 2, 1, 0, 2, 2, 0, 2, 2, 0, 0, 2, 2, 2, 2, 2, 2, 2, 2, 2, 0,\n",
              "       0, 0, 0, 0, 0, 0, 2, 2, 0, 2, 2, 2, 2, 2, 2, 2, 2, 0, 2, 2, 2, 2,\n",
              "       2, 0, 0, 0, 0, 0, 0, 0, 0, 0, 0, 0, 0, 0, 2, 2, 2, 2, 2, 0, 0, 0,\n",
              "       0, 0, 0, 2, 0, 0, 0, 0, 0, 0, 0, 2, 0, 2, 0, 0, 1, 1, 1, 1, 1, 1,\n",
              "       1, 1, 2, 2, 2, 0, 0, 0, 0, 0, 0, 0, 0, 0, 0, 0, 0, 0, 0, 0, 0, 0,\n",
              "       0, 0, 0, 0, 0, 0, 0, 0, 0], dtype=int32)"
            ]
          },
          "metadata": {},
          "execution_count": 76
        }
      ]
    },
    {
      "cell_type": "code",
      "source": [
        "df['cluster']=y_predicted\n",
        "df.head()\n"
      ],
      "metadata": {
        "colab": {
          "base_uri": "https://localhost:8080/",
          "height": 354
        },
        "id": "fWSU2xOrYvSW",
        "outputId": "cb8b5c56-1877-47e6-e167-b017e0dd5301"
      },
      "execution_count": null,
      "outputs": [
        {
          "output_type": "execute_result",
          "data": {
            "text/plain": [
              "  Menu Category              Menu Items Per Serve Size  Energy (kCal)  \\\n",
              "0  Regular Menu        McVeggie™ Burger          168 g       0.481866   \n",
              "1  Regular Menu    McAloo Tikki Burger®          146 g       0.406923   \n",
              "2  Regular Menu  McSpicy™ Paneer Burger          199 g       0.782348   \n",
              "3  Regular Menu       Spicy Paneer Wrap          250 g       0.808620   \n",
              "4  Regular Menu     American Veg Burger          177 g       0.613848   \n",
              "\n",
              "   Protein (g)  Total fat (g)  Sat Fat (g)  Trans fat (g)  Cholesterols (mg)  \\\n",
              "0     0.259438          13.83         5.34           0.16               2.49   \n",
              "1     0.215353          11.31         4.27           0.20               1.47   \n",
              "2     0.514061          39.45        17.12           0.18              21.85   \n",
              "3     0.531036          39.10        19.73           0.26              40.93   \n",
              "4     0.387636          23.45        10.51           0.17              25.24   \n",
              "\n",
              "   Total carbohydrate (g)  Total Sugars (g)  Added Sugars (g)  Sodium (mg)  \\\n",
              "0                   56.54              7.90              4.49       706.13   \n",
              "1                   50.27              7.05              4.07       545.34   \n",
              "2                   52.33              8.35              5.27      1074.58   \n",
              "3                   59.27              3.50              1.08      1087.46   \n",
              "4                   56.96              7.85              4.76      1051.24   \n",
              "\n",
              "   cluster  \n",
              "0        2  \n",
              "1        2  \n",
              "2        1  \n",
              "3        1  \n",
              "4        1  "
            ],
            "text/html": [
              "\n",
              "  <div id=\"df-08bc1b26-cb89-494a-9184-f40df764a15e\">\n",
              "    <div class=\"colab-df-container\">\n",
              "      <div>\n",
              "<style scoped>\n",
              "    .dataframe tbody tr th:only-of-type {\n",
              "        vertical-align: middle;\n",
              "    }\n",
              "\n",
              "    .dataframe tbody tr th {\n",
              "        vertical-align: top;\n",
              "    }\n",
              "\n",
              "    .dataframe thead th {\n",
              "        text-align: right;\n",
              "    }\n",
              "</style>\n",
              "<table border=\"1\" class=\"dataframe\">\n",
              "  <thead>\n",
              "    <tr style=\"text-align: right;\">\n",
              "      <th></th>\n",
              "      <th>Menu Category</th>\n",
              "      <th>Menu Items</th>\n",
              "      <th>Per Serve Size</th>\n",
              "      <th>Energy (kCal)</th>\n",
              "      <th>Protein (g)</th>\n",
              "      <th>Total fat (g)</th>\n",
              "      <th>Sat Fat (g)</th>\n",
              "      <th>Trans fat (g)</th>\n",
              "      <th>Cholesterols (mg)</th>\n",
              "      <th>Total carbohydrate (g)</th>\n",
              "      <th>Total Sugars (g)</th>\n",
              "      <th>Added Sugars (g)</th>\n",
              "      <th>Sodium (mg)</th>\n",
              "      <th>cluster</th>\n",
              "    </tr>\n",
              "  </thead>\n",
              "  <tbody>\n",
              "    <tr>\n",
              "      <th>0</th>\n",
              "      <td>Regular Menu</td>\n",
              "      <td>McVeggie™ Burger</td>\n",
              "      <td>168 g</td>\n",
              "      <td>0.481866</td>\n",
              "      <td>0.259438</td>\n",
              "      <td>13.83</td>\n",
              "      <td>5.34</td>\n",
              "      <td>0.16</td>\n",
              "      <td>2.49</td>\n",
              "      <td>56.54</td>\n",
              "      <td>7.90</td>\n",
              "      <td>4.49</td>\n",
              "      <td>706.13</td>\n",
              "      <td>2</td>\n",
              "    </tr>\n",
              "    <tr>\n",
              "      <th>1</th>\n",
              "      <td>Regular Menu</td>\n",
              "      <td>McAloo Tikki Burger®</td>\n",
              "      <td>146 g</td>\n",
              "      <td>0.406923</td>\n",
              "      <td>0.215353</td>\n",
              "      <td>11.31</td>\n",
              "      <td>4.27</td>\n",
              "      <td>0.20</td>\n",
              "      <td>1.47</td>\n",
              "      <td>50.27</td>\n",
              "      <td>7.05</td>\n",
              "      <td>4.07</td>\n",
              "      <td>545.34</td>\n",
              "      <td>2</td>\n",
              "    </tr>\n",
              "    <tr>\n",
              "      <th>2</th>\n",
              "      <td>Regular Menu</td>\n",
              "      <td>McSpicy™ Paneer Burger</td>\n",
              "      <td>199 g</td>\n",
              "      <td>0.782348</td>\n",
              "      <td>0.514061</td>\n",
              "      <td>39.45</td>\n",
              "      <td>17.12</td>\n",
              "      <td>0.18</td>\n",
              "      <td>21.85</td>\n",
              "      <td>52.33</td>\n",
              "      <td>8.35</td>\n",
              "      <td>5.27</td>\n",
              "      <td>1074.58</td>\n",
              "      <td>1</td>\n",
              "    </tr>\n",
              "    <tr>\n",
              "      <th>3</th>\n",
              "      <td>Regular Menu</td>\n",
              "      <td>Spicy Paneer Wrap</td>\n",
              "      <td>250 g</td>\n",
              "      <td>0.808620</td>\n",
              "      <td>0.531036</td>\n",
              "      <td>39.10</td>\n",
              "      <td>19.73</td>\n",
              "      <td>0.26</td>\n",
              "      <td>40.93</td>\n",
              "      <td>59.27</td>\n",
              "      <td>3.50</td>\n",
              "      <td>1.08</td>\n",
              "      <td>1087.46</td>\n",
              "      <td>1</td>\n",
              "    </tr>\n",
              "    <tr>\n",
              "      <th>4</th>\n",
              "      <td>Regular Menu</td>\n",
              "      <td>American Veg Burger</td>\n",
              "      <td>177 g</td>\n",
              "      <td>0.613848</td>\n",
              "      <td>0.387636</td>\n",
              "      <td>23.45</td>\n",
              "      <td>10.51</td>\n",
              "      <td>0.17</td>\n",
              "      <td>25.24</td>\n",
              "      <td>56.96</td>\n",
              "      <td>7.85</td>\n",
              "      <td>4.76</td>\n",
              "      <td>1051.24</td>\n",
              "      <td>1</td>\n",
              "    </tr>\n",
              "  </tbody>\n",
              "</table>\n",
              "</div>\n",
              "      <button class=\"colab-df-convert\" onclick=\"convertToInteractive('df-08bc1b26-cb89-494a-9184-f40df764a15e')\"\n",
              "              title=\"Convert this dataframe to an interactive table.\"\n",
              "              style=\"display:none;\">\n",
              "        \n",
              "  <svg xmlns=\"http://www.w3.org/2000/svg\" height=\"24px\"viewBox=\"0 0 24 24\"\n",
              "       width=\"24px\">\n",
              "    <path d=\"M0 0h24v24H0V0z\" fill=\"none\"/>\n",
              "    <path d=\"M18.56 5.44l.94 2.06.94-2.06 2.06-.94-2.06-.94-.94-2.06-.94 2.06-2.06.94zm-11 1L8.5 8.5l.94-2.06 2.06-.94-2.06-.94L8.5 2.5l-.94 2.06-2.06.94zm10 10l.94 2.06.94-2.06 2.06-.94-2.06-.94-.94-2.06-.94 2.06-2.06.94z\"/><path d=\"M17.41 7.96l-1.37-1.37c-.4-.4-.92-.59-1.43-.59-.52 0-1.04.2-1.43.59L10.3 9.45l-7.72 7.72c-.78.78-.78 2.05 0 2.83L4 21.41c.39.39.9.59 1.41.59.51 0 1.02-.2 1.41-.59l7.78-7.78 2.81-2.81c.8-.78.8-2.07 0-2.86zM5.41 20L4 18.59l7.72-7.72 1.47 1.35L5.41 20z\"/>\n",
              "  </svg>\n",
              "      </button>\n",
              "      \n",
              "  <style>\n",
              "    .colab-df-container {\n",
              "      display:flex;\n",
              "      flex-wrap:wrap;\n",
              "      gap: 12px;\n",
              "    }\n",
              "\n",
              "    .colab-df-convert {\n",
              "      background-color: #E8F0FE;\n",
              "      border: none;\n",
              "      border-radius: 50%;\n",
              "      cursor: pointer;\n",
              "      display: none;\n",
              "      fill: #1967D2;\n",
              "      height: 32px;\n",
              "      padding: 0 0 0 0;\n",
              "      width: 32px;\n",
              "    }\n",
              "\n",
              "    .colab-df-convert:hover {\n",
              "      background-color: #E2EBFA;\n",
              "      box-shadow: 0px 1px 2px rgba(60, 64, 67, 0.3), 0px 1px 3px 1px rgba(60, 64, 67, 0.15);\n",
              "      fill: #174EA6;\n",
              "    }\n",
              "\n",
              "    [theme=dark] .colab-df-convert {\n",
              "      background-color: #3B4455;\n",
              "      fill: #D2E3FC;\n",
              "    }\n",
              "\n",
              "    [theme=dark] .colab-df-convert:hover {\n",
              "      background-color: #434B5C;\n",
              "      box-shadow: 0px 1px 3px 1px rgba(0, 0, 0, 0.15);\n",
              "      filter: drop-shadow(0px 1px 2px rgba(0, 0, 0, 0.3));\n",
              "      fill: #FFFFFF;\n",
              "    }\n",
              "  </style>\n",
              "\n",
              "      <script>\n",
              "        const buttonEl =\n",
              "          document.querySelector('#df-08bc1b26-cb89-494a-9184-f40df764a15e button.colab-df-convert');\n",
              "        buttonEl.style.display =\n",
              "          google.colab.kernel.accessAllowed ? 'block' : 'none';\n",
              "\n",
              "        async function convertToInteractive(key) {\n",
              "          const element = document.querySelector('#df-08bc1b26-cb89-494a-9184-f40df764a15e');\n",
              "          const dataTable =\n",
              "            await google.colab.kernel.invokeFunction('convertToInteractive',\n",
              "                                                     [key], {});\n",
              "          if (!dataTable) return;\n",
              "\n",
              "          const docLinkHtml = 'Like what you see? Visit the ' +\n",
              "            '<a target=\"_blank\" href=https://colab.research.google.com/notebooks/data_table.ipynb>data table notebook</a>'\n",
              "            + ' to learn more about interactive tables.';\n",
              "          element.innerHTML = '';\n",
              "          dataTable['output_type'] = 'display_data';\n",
              "          await google.colab.output.renderOutput(dataTable, element);\n",
              "          const docLink = document.createElement('div');\n",
              "          docLink.innerHTML = docLinkHtml;\n",
              "          element.appendChild(docLink);\n",
              "        }\n",
              "      </script>\n",
              "    </div>\n",
              "  </div>\n",
              "  "
            ]
          },
          "metadata": {},
          "execution_count": 77
        }
      ]
    },
    {
      "cell_type": "markdown",
      "source": [
        "-->cluster centers of normalised dataset"
      ],
      "metadata": {
        "id": "mBvzBfMXbcCc"
      }
    },
    {
      "cell_type": "code",
      "source": [
        "km.cluster_centers_\n"
      ],
      "metadata": {
        "colab": {
          "base_uri": "https://localhost:8080/"
        },
        "id": "B-1cTOOgY4if",
        "outputId": "b1be819c-9367-4873-caac-33f727819122"
      },
      "execution_count": null,
      "outputs": [
        {
          "output_type": "execute_result",
          "data": {
            "text/plain": [
              "array([[0.1258758 , 0.03371883],\n",
              "       [0.70463021, 0.61401731],\n",
              "       [0.35914553, 0.23722659]])"
            ]
          },
          "metadata": {},
          "execution_count": 78
        }
      ]
    },
    {
      "cell_type": "markdown",
      "source": [
        "-->These clusters have only on centrid each "
      ],
      "metadata": {
        "id": "IqiMQkTuboIU"
      }
    },
    {
      "cell_type": "code",
      "source": [
        "\n",
        "df1 = df[df.cluster==0]\n",
        "df2 = df[df.cluster==1]\n",
        "df3 = df[df.cluster==2]\n",
        "plt.scatter(df1['Energy (kCal)'],df1['Protein (g)'],color='green')\n",
        "plt.scatter(df2['Energy (kCal)'],df2['Protein (g)'],color='red')\n",
        "plt.scatter(df3['Energy (kCal)'],df3['Protein (g)'],color='black')\n",
        "plt.scatter(km.cluster_centers_[:,0],km.cluster_centers_[:,1],color='purple',marker='*',label='centroid')\n",
        "plt.legend()\n",
        "\n"
      ],
      "metadata": {
        "colab": {
          "base_uri": "https://localhost:8080/",
          "height": 282
        },
        "id": "-z30jMkUY7l3",
        "outputId": "50911fe7-5440-4783-a312-d3017ffa3f14"
      },
      "execution_count": null,
      "outputs": [
        {
          "output_type": "execute_result",
          "data": {
            "text/plain": [
              "<matplotlib.legend.Legend at 0x7f9c2ea3ac50>"
            ]
          },
          "metadata": {},
          "execution_count": 79
        },
        {
          "output_type": "display_data",
          "data": {
            "text/plain": [
              "<Figure size 432x288 with 1 Axes>"
            ],
            "image/png": "[encoded data removed]"
          },
          "metadata": {
            "needs_background": "light"
          }
        }
      ]
    },
    {
      "cell_type": "markdown",
      "source": [
        "-->Now here we are performing elbow method and according to the graph optimum number of clusters could be 2 or 3.\n",
        "\n",
        "And as we can see that before preprocessing(normalisation) there were total 8 centroids were coming for three clusters but after normalisation centroids reduced to three. here importance of preprocessing can be seen."
      ],
      "metadata": {
        "id": "Y7qPfVNcbyPU"
      }
    },
    {
      "cell_type": "code",
      "source": [
        "sse = []\n",
        "k_rng = range(1,10)\n",
        "for k in k_rng:\n",
        "    km = KMeans(n_clusters=k)\n",
        "    km.fit(df[['Energy (kCal)','Protein (g)']])\n",
        "    sse.append(km.inertia_)\n",
        "\n",
        "plt.xlabel('K')\n",
        "plt.ylabel('Sum of squared error')\n",
        "plt.plot(k_rng,sse)"
      ],
      "metadata": {
        "colab": {
          "base_uri": "https://localhost:8080/",
          "height": 296
        },
        "id": "bQQj4lf3Y-b3",
        "outputId": "ebb42e50-dd92-45d8-d0c9-5819c1a2bc11"
      },
      "execution_count": null,
      "outputs": [
        {
          "output_type": "execute_result",
          "data": {
            "text/plain": [
              "[<matplotlib.lines.Line2D at 0x7f9c2eb2c690>]"
            ]
          },
          "metadata": {},
          "execution_count": 80
        },
        {
          "output_type": "display_data",
          "data": {
            "text/plain": [
              "<Figure size 432x288 with 1 Axes>"
            ],
            "image/png": "[encoded data removed]"
          },
          "metadata": {
            "needs_background": "light"
          }
        }
      ]
    }
  ]
}